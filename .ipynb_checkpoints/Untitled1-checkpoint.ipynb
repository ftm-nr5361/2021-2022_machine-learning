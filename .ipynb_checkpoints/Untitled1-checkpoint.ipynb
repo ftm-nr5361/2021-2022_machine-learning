{
 "cells": [
  {
   "cell_type": "code",
   "execution_count": 2,
   "id": "555051eb",
   "metadata": {},
   "outputs": [],
   "source": [
    "import pandas as pd\n",
    "import numpy as np"
   ]
  },
  {
   "cell_type": "code",
   "execution_count": 7,
   "id": "7b999d0f",
   "metadata": {},
   "outputs": [
    {
     "name": "stdout",
     "output_type": "stream",
     "text": [
      "  ;USMER;MEDICAL_UNIT;SEX;PATIENT_TYPE;DATE_DIED;INTUBED;PNEUMONIA;AGE;PREGNANT;DIABETES;COPD;ASTHMA;INMSUPR;HIPERTENSION;OTHER_DISEASE;CARDIOVASCULAR;OBESITY;RENAL_CHRONIC;TOBACCO;CLASIFFICATION_FINAL;ICU\n",
      "0       5;2;1;1;2;1;2;1;40;2;2;2;2;2;2;2;2;2;2;2;3;2                                                                                                                                                         \n",
      "1       8;2;1;1;2;1;2;2;37;2;1;2;2;2;1;2;2;1;2;2;3;2                                                                                                                                                         \n",
      "2       9;2;1;1;2;1;2;2;25;2;2;2;2;2;2;2;2;2;2;2;3;2                                                                                                                                                         \n",
      "3      16;2;1;1;2;1;2;1;80;2;2;2;2;2;1;2;2;2;2;2;3;1                                                                                                                                                         \n",
      "4      56;2;1;1;2;1;1;1;58;2;2;2;2;2;1;2;1;1;2;2;7;1                                                                                                                                                         \n"
     ]
    }
   ],
   "source": [
    "df=pd.read_csv(\"covid_data.csv\",sep=\",\")\n",
    "print(df.head())\n",
    "\n",
    "\n",
    "\n",
    "df.DATE_DIED= [1 if each == \"9999-99-99\" else 2 for each in df.DATE_DIED]"
   ]
  },
  {
   "cell_type": "code",
   "execution_count": 5,
   "id": "eaaf995a",
   "metadata": {},
   "outputs": [
    {
     "name": "stdout",
     "output_type": "stream",
     "text": [
      "      ;USMER;MEDICAL_UNIT;SEX;PATIENT_TYPE;DATE_DIED;INTUBED;PNEUMONIA;AGE;PREGNANT;DIABETES;COPD;ASTHMA;INMSUPR;HIPERTENSION;OTHER_DISEASE;CARDIOVASCULAR;OBESITY;RENAL_CHRONIC;TOBACCO;CLASIFFICATION_FINAL;ICU\n",
      "76836  1048535;1;13;1;2;1;2;2;79;2;2;2;2;2;1;2;2;2;2;...                                                                                                                                                         \n",
      "76837  1048553;2;13;1;2;1;2;1;61;2;1;2;2;2;1;2;2;2;2;...                                                                                                                                                         \n",
      "76838  1048554;2;13;1;2;1;2;1;63;2;2;2;1;2;2;2;2;1;2;...                                                                                                                                                         \n",
      "76839  1048567;1;13;1;2;1;2;2;23;2;1;2;2;2;2;2;2;1;2;...                                                                                                                                                         \n",
      "76840  1048569;1;13;1;2;1;2;2;56;2;1;2;2;2;2;2;2;2;2;...                                                                                                                                                         \n"
     ]
    }
   ],
   "source": [
    "print(df.tail())"
   ]
  },
  {
   "cell_type": "code",
   "execution_count": 68,
   "id": "3e08d7e1",
   "metadata": {},
   "outputs": [
    {
     "name": "stdout",
     "output_type": "stream",
     "text": [
      "<class 'pandas.core.frame.DataFrame'>\n",
      "RangeIndex: 1048575 entries, 0 to 1048574\n",
      "Data columns (total 21 columns):\n",
      " #   Column                Non-Null Count    Dtype\n",
      "---  ------                --------------    -----\n",
      " 0   USMER                 1048575 non-null  int64\n",
      " 1   MEDICAL_UNIT          1048575 non-null  int64\n",
      " 2   SEX                   1048575 non-null  int64\n",
      " 3   PATIENT_TYPE          1048575 non-null  int64\n",
      " 4   DATE_DIED             1048575 non-null  int64\n",
      " 5   INTUBED               1048575 non-null  int64\n",
      " 6   PNEUMONIA             1048575 non-null  int64\n",
      " 7   AGE                   1048575 non-null  int64\n",
      " 8   PREGNANT              1048575 non-null  int64\n",
      " 9   DIABETES              1048575 non-null  int64\n",
      " 10  COPD                  1048575 non-null  int64\n",
      " 11  ASTHMA                1048575 non-null  int64\n",
      " 12  INMSUPR               1048575 non-null  int64\n",
      " 13  HIPERTENSION          1048575 non-null  int64\n",
      " 14  OTHER_DISEASE         1048575 non-null  int64\n",
      " 15  CARDIOVASCULAR        1048575 non-null  int64\n",
      " 16  OBESITY               1048575 non-null  int64\n",
      " 17  RENAL_CHRONIC         1048575 non-null  int64\n",
      " 18  TOBACCO               1048575 non-null  int64\n",
      " 19  CLASIFFICATION_FINAL  1048575 non-null  int64\n",
      " 20  ICU                   1048575 non-null  int64\n",
      "dtypes: int64(21)\n",
      "memory usage: 168.0 MB\n",
      "None\n"
     ]
    }
   ],
   "source": [
    "print(df.info())"
   ]
  },
  {
   "cell_type": "code",
   "execution_count": 69,
   "id": "f3978ab3",
   "metadata": {},
   "outputs": [
    {
     "name": "stdout",
     "output_type": "stream",
     "text": [
      "USMER                   int64\n",
      "MEDICAL_UNIT            int64\n",
      "SEX                     int64\n",
      "PATIENT_TYPE            int64\n",
      "DATE_DIED               int64\n",
      "INTUBED                 int64\n",
      "PNEUMONIA               int64\n",
      "AGE                     int64\n",
      "PREGNANT                int64\n",
      "DIABETES                int64\n",
      "COPD                    int64\n",
      "ASTHMA                  int64\n",
      "INMSUPR                 int64\n",
      "HIPERTENSION            int64\n",
      "OTHER_DISEASE           int64\n",
      "CARDIOVASCULAR          int64\n",
      "OBESITY                 int64\n",
      "RENAL_CHRONIC           int64\n",
      "TOBACCO                 int64\n",
      "CLASIFFICATION_FINAL    int64\n",
      "ICU                     int64\n",
      "dtype: object\n"
     ]
    }
   ],
   "source": [
    "print(df.dtypes)"
   ]
  },
  {
   "cell_type": "code",
   "execution_count": 70,
   "id": "3976b351",
   "metadata": {},
   "outputs": [
    {
     "name": "stdout",
     "output_type": "stream",
     "text": [
      "              USMER  MEDICAL_UNIT           SEX  PATIENT_TYPE     DATE_DIED  \\\n",
      "count  1.048575e+06  1.048575e+06  1.048575e+06  1.048575e+06  1.048575e+06   \n",
      "mean   1.632194e+00  8.980565e+00  1.499259e+00  1.190765e+00  1.073378e+00   \n",
      "std    4.822084e-01  3.723278e+00  4.999997e-01  3.929041e-01  2.607556e-01   \n",
      "min    1.000000e+00  1.000000e+00  1.000000e+00  1.000000e+00  1.000000e+00   \n",
      "25%    1.000000e+00  4.000000e+00  1.000000e+00  1.000000e+00  1.000000e+00   \n",
      "50%    2.000000e+00  1.200000e+01  1.000000e+00  1.000000e+00  1.000000e+00   \n",
      "75%    2.000000e+00  1.200000e+01  2.000000e+00  1.000000e+00  1.000000e+00   \n",
      "max    2.000000e+00  1.300000e+01  2.000000e+00  2.000000e+00  2.000000e+00   \n",
      "\n",
      "            INTUBED     PNEUMONIA           AGE      PREGNANT      DIABETES  \\\n",
      "count  1.048575e+06  1.048575e+06  1.048575e+06  1.048575e+06  1.048575e+06   \n",
      "mean   7.952288e+01  3.346831e+00  4.179410e+01  4.976558e+01  2.186404e+00   \n",
      "std    3.686889e+01  1.191288e+01  1.690739e+01  4.751073e+01  5.424242e+00   \n",
      "min    1.000000e+00  1.000000e+00  0.000000e+00  1.000000e+00  1.000000e+00   \n",
      "25%    9.700000e+01  2.000000e+00  3.000000e+01  2.000000e+00  2.000000e+00   \n",
      "50%    9.700000e+01  2.000000e+00  4.000000e+01  9.700000e+01  2.000000e+00   \n",
      "75%    9.700000e+01  2.000000e+00  5.300000e+01  9.700000e+01  2.000000e+00   \n",
      "max    9.900000e+01  9.900000e+01  1.210000e+02  9.800000e+01  9.800000e+01   \n",
      "\n",
      "       ...        ASTHMA       INMSUPR  HIPERTENSION  OTHER_DISEASE  \\\n",
      "count  ...  1.048575e+06  1.048575e+06  1.048575e+06   1.048575e+06   \n",
      "mean   ...  2.242626e+00  2.298132e+00  2.128989e+00   2.435143e+00   \n",
      "std    ...  5.114089e+00  5.462843e+00  5.236397e+00   6.646676e+00   \n",
      "min    ...  1.000000e+00  1.000000e+00  1.000000e+00   1.000000e+00   \n",
      "25%    ...  2.000000e+00  2.000000e+00  2.000000e+00   2.000000e+00   \n",
      "50%    ...  2.000000e+00  2.000000e+00  2.000000e+00   2.000000e+00   \n",
      "75%    ...  2.000000e+00  2.000000e+00  2.000000e+00   2.000000e+00   \n",
      "max    ...  9.800000e+01  9.800000e+01  9.800000e+01   9.800000e+01   \n",
      "\n",
      "       CARDIOVASCULAR       OBESITY  RENAL_CHRONIC       TOBACCO  \\\n",
      "count    1.048575e+06  1.048575e+06   1.048575e+06  1.048575e+06   \n",
      "mean     2.261810e+00  2.125176e+00   2.257180e+00  2.214333e+00   \n",
      "std      5.194850e+00  5.175445e+00   5.135354e+00  5.323097e+00   \n",
      "min      1.000000e+00  1.000000e+00   1.000000e+00  1.000000e+00   \n",
      "25%      2.000000e+00  2.000000e+00   2.000000e+00  2.000000e+00   \n",
      "50%      2.000000e+00  2.000000e+00   2.000000e+00  2.000000e+00   \n",
      "75%      2.000000e+00  2.000000e+00   2.000000e+00  2.000000e+00   \n",
      "max      9.800000e+01  9.800000e+01   9.800000e+01  9.800000e+01   \n",
      "\n",
      "       CLASIFFICATION_FINAL           ICU  \n",
      "count          1.048575e+06  1.048575e+06  \n",
      "mean           5.305653e+00  7.955397e+01  \n",
      "std            1.881165e+00  3.682307e+01  \n",
      "min            1.000000e+00  1.000000e+00  \n",
      "25%            3.000000e+00  9.700000e+01  \n",
      "50%            6.000000e+00  9.700000e+01  \n",
      "75%            7.000000e+00  9.700000e+01  \n",
      "max            7.000000e+00  9.900000e+01  \n",
      "\n",
      "[8 rows x 21 columns]\n"
     ]
    }
   ],
   "source": [
    "print(df.describe())"
   ]
  },
  {
   "cell_type": "markdown",
   "id": "deac1f35",
   "metadata": {},
   "source": [
    "---\n",
    "\n",
    "In the Boolean features, 1 means \"yes\" and 2 means \"no\". values as 97 and 99 are missing data.\n",
    "\n",
    "sex: female or male\n",
    "\n",
    "age: of the patient.\n",
    "\n",
    "classification: covid test findings. Values 1-3 mean that the patient was diagnosed with covid in different\n",
    "degrees. 4 or higher means that the patient is not a carrier of covid or that the test is inconclusive.\n",
    "\n",
    "patient type: hospitalized or not hospitalized.\n",
    "\n",
    "pneumonia: whether the patient already have air sacs inflammation or not.\n",
    "\n",
    "pregnancy: whether the patient is pregnant or not.\n",
    "\n",
    "diabetes: whether the patient has diabetes or not.\n",
    "\n",
    "copd: Indicates whether the patient has Chronic obstructive pulmonary disease or not.\n",
    "\n",
    "asthma: whether the patient has asthma or not.\n",
    "\n",
    "inmsupr: whether the patient is immunosuppressed or not.\n",
    "\n",
    "hypertension: whether the patient has hypertension or not.\n",
    "\n",
    "cardiovascular: whether the patient has heart or blood vessels related disease.\n",
    "\n",
    "renal chronic: whether the patient has chronic renal disease or not.\n",
    "\n",
    "other disease: whether the patient has other disease or not.\n",
    "\n",
    "obesity: whether the patient is obese or not.\n",
    "\n",
    "tobacco: whether the patient is a tobacco user.\n",
    "\n",
    "usmr: Indicates whether the patient treated medical units of the first, second or third level.\n",
    "\n",
    "medical unit: type of institution of the National Health System that provided the care.\n",
    "\n",
    "intubed: whether the patient was connected to the ventilator.\n",
    "\n",
    "icu: Indicates whether the patient had been admitted to an Intensive Care Unit.\n",
    "\n",
    "death: indicates whether the patient died or recovered.\n",
    "\n",
    "---"
   ]
  },
  {
   "cell_type": "code",
   "execution_count": 71,
   "id": "23ae0d70",
   "metadata": {},
   "outputs": [
    {
     "name": "stdout",
     "output_type": "stream",
     "text": [
      "0          2\n",
      "1          2\n",
      "2          2\n",
      "3          2\n",
      "4          2\n",
      "          ..\n",
      "1048570    2\n",
      "1048571    1\n",
      "1048572    2\n",
      "1048573    2\n",
      "1048574    2\n",
      "Name: USMER, Length: 1048575, dtype: int64\n"
     ]
    }
   ],
   "source": [
    "print(df.USMER)"
   ]
  },
  {
   "cell_type": "code",
   "execution_count": 72,
   "id": "2b7cb904",
   "metadata": {},
   "outputs": [
    {
     "name": "stdout",
     "output_type": "stream",
     "text": [
      "0          False\n",
      "1          False\n",
      "2          False\n",
      "3          False\n",
      "4          False\n",
      "           ...  \n",
      "1048570    False\n",
      "1048571    False\n",
      "1048572    False\n",
      "1048573    False\n",
      "1048574    False\n",
      "Name: USMER, Length: 1048575, dtype: bool\n"
     ]
    }
   ],
   "source": [
    "print(df.USMER.isnull())"
   ]
  },
  {
   "cell_type": "code",
   "execution_count": 73,
   "id": "662b6604",
   "metadata": {},
   "outputs": [
    {
     "name": "stdout",
     "output_type": "stream",
     "text": [
      "count    1.048575e+06\n",
      "mean     1.632194e+00\n",
      "std      4.822084e-01\n",
      "min      1.000000e+00\n",
      "25%      1.000000e+00\n",
      "50%      2.000000e+00\n",
      "75%      2.000000e+00\n",
      "max      2.000000e+00\n",
      "Name: USMER, dtype: float64\n"
     ]
    }
   ],
   "source": [
    "print(df.USMER.describe())"
   ]
  },
  {
   "cell_type": "code",
   "execution_count": 74,
   "id": "efc35387",
   "metadata": {},
   "outputs": [
    {
     "name": "stdout",
     "output_type": "stream",
     "text": [
      "0           1\n",
      "1           1\n",
      "2           1\n",
      "3           1\n",
      "4           1\n",
      "           ..\n",
      "1048570    13\n",
      "1048571    13\n",
      "1048572    13\n",
      "1048573    13\n",
      "1048574    13\n",
      "Name: MEDICAL_UNIT, Length: 1048575, dtype: int64\n",
      "0          False\n",
      "1          False\n",
      "2          False\n",
      "3          False\n",
      "4          False\n",
      "           ...  \n",
      "1048570    False\n",
      "1048571    False\n",
      "1048572    False\n",
      "1048573    False\n",
      "1048574    False\n",
      "Name: MEDICAL_UNIT, Length: 1048575, dtype: bool\n",
      "count    1.048575e+06\n",
      "mean     8.980565e+00\n",
      "std      3.723278e+00\n",
      "min      1.000000e+00\n",
      "25%      4.000000e+00\n",
      "50%      1.200000e+01\n",
      "75%      1.200000e+01\n",
      "max      1.300000e+01\n",
      "Name: MEDICAL_UNIT, dtype: float64\n"
     ]
    }
   ],
   "source": [
    "print(df.MEDICAL_UNIT)\n",
    "print(df.MEDICAL_UNIT.isnull())\n",
    "print(df.MEDICAL_UNIT.describe())"
   ]
  },
  {
   "cell_type": "code",
   "execution_count": 75,
   "id": "7d8a2cc3",
   "metadata": {},
   "outputs": [
    {
     "name": "stdout",
     "output_type": "stream",
     "text": [
      "0          1\n",
      "1          2\n",
      "2          2\n",
      "3          1\n",
      "4          2\n",
      "          ..\n",
      "1048570    2\n",
      "1048571    2\n",
      "1048572    2\n",
      "1048573    2\n",
      "1048574    2\n",
      "Name: SEX, Length: 1048575, dtype: int64\n",
      "0          False\n",
      "1          False\n",
      "2          False\n",
      "3          False\n",
      "4          False\n",
      "           ...  \n",
      "1048570    False\n",
      "1048571    False\n",
      "1048572    False\n",
      "1048573    False\n",
      "1048574    False\n",
      "Name: SEX, Length: 1048575, dtype: bool\n",
      "count    1.048575e+06\n",
      "mean     1.499259e+00\n",
      "std      4.999997e-01\n",
      "min      1.000000e+00\n",
      "25%      1.000000e+00\n",
      "50%      1.000000e+00\n",
      "75%      2.000000e+00\n",
      "max      2.000000e+00\n",
      "Name: SEX, dtype: float64\n"
     ]
    }
   ],
   "source": [
    "print(df.SEX)\n",
    "print(df.SEX.isnull())\n",
    "print(df.SEX.describe())"
   ]
  },
  {
   "cell_type": "code",
   "execution_count": 76,
   "id": "7b85ab38",
   "metadata": {},
   "outputs": [
    {
     "name": "stdout",
     "output_type": "stream",
     "text": [
      "0          1\n",
      "1          1\n",
      "2          2\n",
      "3          1\n",
      "4          1\n",
      "          ..\n",
      "1048570    1\n",
      "1048571    2\n",
      "1048572    1\n",
      "1048573    1\n",
      "1048574    1\n",
      "Name: PATIENT_TYPE, Length: 1048575, dtype: int64\n",
      "0          False\n",
      "1          False\n",
      "2          False\n",
      "3          False\n",
      "4          False\n",
      "           ...  \n",
      "1048570    False\n",
      "1048571    False\n",
      "1048572    False\n",
      "1048573    False\n",
      "1048574    False\n",
      "Name: PATIENT_TYPE, Length: 1048575, dtype: bool\n",
      "count    1.048575e+06\n",
      "mean     1.190765e+00\n",
      "std      3.929041e-01\n",
      "min      1.000000e+00\n",
      "25%      1.000000e+00\n",
      "50%      1.000000e+00\n",
      "75%      1.000000e+00\n",
      "max      2.000000e+00\n",
      "Name: PATIENT_TYPE, dtype: float64\n"
     ]
    }
   ],
   "source": [
    "print(df.PATIENT_TYPE)\n",
    "print(df.PATIENT_TYPE.isnull())\n",
    "print(df.PATIENT_TYPE.describe())"
   ]
  },
  {
   "cell_type": "code",
   "execution_count": 77,
   "id": "fc56033a",
   "metadata": {},
   "outputs": [
    {
     "name": "stdout",
     "output_type": "stream",
     "text": [
      "0          2\n",
      "1          2\n",
      "2          2\n",
      "3          2\n",
      "4          2\n",
      "          ..\n",
      "1048570    1\n",
      "1048571    1\n",
      "1048572    1\n",
      "1048573    1\n",
      "1048574    1\n",
      "Name: DATE_DIED, Length: 1048575, dtype: int64\n",
      "0          False\n",
      "1          False\n",
      "2          False\n",
      "3          False\n",
      "4          False\n",
      "           ...  \n",
      "1048570    False\n",
      "1048571    False\n",
      "1048572    False\n",
      "1048573    False\n",
      "1048574    False\n",
      "Name: DATE_DIED, Length: 1048575, dtype: bool\n",
      "count    1.048575e+06\n",
      "mean     1.073378e+00\n",
      "std      2.607556e-01\n",
      "min      1.000000e+00\n",
      "25%      1.000000e+00\n",
      "50%      1.000000e+00\n",
      "75%      1.000000e+00\n",
      "max      2.000000e+00\n",
      "Name: DATE_DIED, dtype: float64\n"
     ]
    }
   ],
   "source": [
    "print(df.DATE_DIED)\n",
    "print(df.DATE_DIED.isnull())\n",
    "print(df.DATE_DIED.describe())"
   ]
  },
  {
   "cell_type": "markdown",
   "id": "1b20cfac",
   "metadata": {},
   "source": [
    "- DATE_DIED ---> ALIVE/DIE çevir"
   ]
  },
  {
   "cell_type": "code",
   "execution_count": 78,
   "id": "1246a048",
   "metadata": {},
   "outputs": [
    {
     "name": "stdout",
     "output_type": "stream",
     "text": [
      "0          97\n",
      "1          97\n",
      "2           1\n",
      "3          97\n",
      "4          97\n",
      "           ..\n",
      "1048570    97\n",
      "1048571     2\n",
      "1048572    97\n",
      "1048573    97\n",
      "1048574    97\n",
      "Name: INTUBED, Length: 1048575, dtype: int64\n",
      "0          False\n",
      "1          False\n",
      "2          False\n",
      "3          False\n",
      "4          False\n",
      "           ...  \n",
      "1048570    False\n",
      "1048571    False\n",
      "1048572    False\n",
      "1048573    False\n",
      "1048574    False\n",
      "Name: INTUBED, Length: 1048575, dtype: bool\n",
      "count    1.048575e+06\n",
      "mean     7.952288e+01\n",
      "std      3.686889e+01\n",
      "min      1.000000e+00\n",
      "25%      9.700000e+01\n",
      "50%      9.700000e+01\n",
      "75%      9.700000e+01\n",
      "max      9.900000e+01\n",
      "Name: INTUBED, dtype: float64\n"
     ]
    }
   ],
   "source": [
    "print(df.INTUBED)\n",
    "print(df.INTUBED.isnull())\n",
    "print(df.INTUBED.describe())"
   ]
  },
  {
   "cell_type": "code",
   "execution_count": 79,
   "id": "f8829832",
   "metadata": {},
   "outputs": [
    {
     "name": "stdout",
     "output_type": "stream",
     "text": [
      "0          1\n",
      "1          1\n",
      "2          2\n",
      "3          2\n",
      "4          2\n",
      "          ..\n",
      "1048570    2\n",
      "1048571    2\n",
      "1048572    2\n",
      "1048573    2\n",
      "1048574    2\n",
      "Name: PNEUMONIA, Length: 1048575, dtype: int64\n",
      "0          False\n",
      "1          False\n",
      "2          False\n",
      "3          False\n",
      "4          False\n",
      "           ...  \n",
      "1048570    False\n",
      "1048571    False\n",
      "1048572    False\n",
      "1048573    False\n",
      "1048574    False\n",
      "Name: PNEUMONIA, Length: 1048575, dtype: bool\n",
      "count    1.048575e+06\n",
      "mean     3.346831e+00\n",
      "std      1.191288e+01\n",
      "min      1.000000e+00\n",
      "25%      2.000000e+00\n",
      "50%      2.000000e+00\n",
      "75%      2.000000e+00\n",
      "max      9.900000e+01\n",
      "Name: PNEUMONIA, dtype: float64\n"
     ]
    }
   ],
   "source": [
    "print(df.PNEUMONIA)\n",
    "print(df.PNEUMONIA.isnull())\n",
    "print(df.PNEUMONIA.describe())"
   ]
  },
  {
   "cell_type": "code",
   "execution_count": 80,
   "id": "c968ec5f",
   "metadata": {},
   "outputs": [
    {
     "name": "stdout",
     "output_type": "stream",
     "text": [
      "0          65\n",
      "1          72\n",
      "2          55\n",
      "3          53\n",
      "4          68\n",
      "           ..\n",
      "1048570    40\n",
      "1048571    51\n",
      "1048572    55\n",
      "1048573    28\n",
      "1048574    52\n",
      "Name: AGE, Length: 1048575, dtype: int64\n",
      "0          False\n",
      "1          False\n",
      "2          False\n",
      "3          False\n",
      "4          False\n",
      "           ...  \n",
      "1048570    False\n",
      "1048571    False\n",
      "1048572    False\n",
      "1048573    False\n",
      "1048574    False\n",
      "Name: AGE, Length: 1048575, dtype: bool\n",
      "count    1.048575e+06\n",
      "mean     4.179410e+01\n",
      "std      1.690739e+01\n",
      "min      0.000000e+00\n",
      "25%      3.000000e+01\n",
      "50%      4.000000e+01\n",
      "75%      5.300000e+01\n",
      "max      1.210000e+02\n",
      "Name: AGE, dtype: float64\n"
     ]
    }
   ],
   "source": [
    "print(df.AGE)\n",
    "print(df.AGE.isnull())\n",
    "print(df.AGE.describe())"
   ]
  },
  {
   "cell_type": "code",
   "execution_count": 81,
   "id": "3bdb3173",
   "metadata": {},
   "outputs": [
    {
     "name": "stdout",
     "output_type": "stream",
     "text": [
      "0           2\n",
      "1          97\n",
      "2          97\n",
      "3           2\n",
      "4          97\n",
      "           ..\n",
      "1048570    97\n",
      "1048571    97\n",
      "1048572    97\n",
      "1048573    97\n",
      "1048574    97\n",
      "Name: PREGNANT, Length: 1048575, dtype: int64\n",
      "0          False\n",
      "1          False\n",
      "2          False\n",
      "3          False\n",
      "4          False\n",
      "           ...  \n",
      "1048570    False\n",
      "1048571    False\n",
      "1048572    False\n",
      "1048573    False\n",
      "1048574    False\n",
      "Name: PREGNANT, Length: 1048575, dtype: bool\n",
      "count    1.048575e+06\n",
      "mean     4.976558e+01\n",
      "std      4.751073e+01\n",
      "min      1.000000e+00\n",
      "25%      2.000000e+00\n",
      "50%      9.700000e+01\n",
      "75%      9.700000e+01\n",
      "max      9.800000e+01\n",
      "Name: PREGNANT, dtype: float64\n"
     ]
    }
   ],
   "source": [
    "print(df.PREGNANT)\n",
    "print(df.PREGNANT.isnull())\n",
    "print(df.PREGNANT.describe())"
   ]
  },
  {
   "cell_type": "code",
   "execution_count": 82,
   "id": "ed514993",
   "metadata": {},
   "outputs": [
    {
     "name": "stdout",
     "output_type": "stream",
     "text": [
      "0          2\n",
      "1          2\n",
      "2          1\n",
      "3          2\n",
      "4          1\n",
      "          ..\n",
      "1048570    2\n",
      "1048571    2\n",
      "1048572    2\n",
      "1048573    2\n",
      "1048574    2\n",
      "Name: DIABETES, Length: 1048575, dtype: int64\n",
      "0          False\n",
      "1          False\n",
      "2          False\n",
      "3          False\n",
      "4          False\n",
      "           ...  \n",
      "1048570    False\n",
      "1048571    False\n",
      "1048572    False\n",
      "1048573    False\n",
      "1048574    False\n",
      "Name: DIABETES, Length: 1048575, dtype: bool\n",
      "count    1.048575e+06\n",
      "mean     2.186404e+00\n",
      "std      5.424242e+00\n",
      "min      1.000000e+00\n",
      "25%      2.000000e+00\n",
      "50%      2.000000e+00\n",
      "75%      2.000000e+00\n",
      "max      9.800000e+01\n",
      "Name: DIABETES, dtype: float64\n"
     ]
    }
   ],
   "source": [
    "print(df.DIABETES)\n",
    "print(df.DIABETES.isnull())\n",
    "print(df.DIABETES.describe())"
   ]
  },
  {
   "cell_type": "code",
   "execution_count": 83,
   "id": "b5d6c1cf",
   "metadata": {},
   "outputs": [
    {
     "name": "stdout",
     "output_type": "stream",
     "text": [
      "0          2\n",
      "1          2\n",
      "2          2\n",
      "3          2\n",
      "4          2\n",
      "          ..\n",
      "1048570    2\n",
      "1048571    2\n",
      "1048572    2\n",
      "1048573    2\n",
      "1048574    2\n",
      "Name: ASTHMA, Length: 1048575, dtype: int64\n",
      "0          False\n",
      "1          False\n",
      "2          False\n",
      "3          False\n",
      "4          False\n",
      "           ...  \n",
      "1048570    False\n",
      "1048571    False\n",
      "1048572    False\n",
      "1048573    False\n",
      "1048574    False\n",
      "Name: ASTHMA, Length: 1048575, dtype: bool\n",
      "count    1.048575e+06\n",
      "mean     2.242626e+00\n",
      "std      5.114089e+00\n",
      "min      1.000000e+00\n",
      "25%      2.000000e+00\n",
      "50%      2.000000e+00\n",
      "75%      2.000000e+00\n",
      "max      9.800000e+01\n",
      "Name: ASTHMA, dtype: float64\n"
     ]
    }
   ],
   "source": [
    "print(df.ASTHMA)\n",
    "print(df.ASTHMA.isnull())\n",
    "print(df.ASTHMA.describe())"
   ]
  },
  {
   "cell_type": "code",
   "execution_count": 84,
   "id": "bdab5acb",
   "metadata": {},
   "outputs": [
    {
     "name": "stdout",
     "output_type": "stream",
     "text": [
      "0          2\n",
      "1          2\n",
      "2          2\n",
      "3          2\n",
      "4          2\n",
      "          ..\n",
      "1048570    2\n",
      "1048571    2\n",
      "1048572    2\n",
      "1048573    2\n",
      "1048574    2\n",
      "Name: INMSUPR, Length: 1048575, dtype: int64\n",
      "0          False\n",
      "1          False\n",
      "2          False\n",
      "3          False\n",
      "4          False\n",
      "           ...  \n",
      "1048570    False\n",
      "1048571    False\n",
      "1048572    False\n",
      "1048573    False\n",
      "1048574    False\n",
      "Name: INMSUPR, Length: 1048575, dtype: bool\n",
      "count    1.048575e+06\n",
      "mean     2.298132e+00\n",
      "std      5.462843e+00\n",
      "min      1.000000e+00\n",
      "25%      2.000000e+00\n",
      "50%      2.000000e+00\n",
      "75%      2.000000e+00\n",
      "max      9.800000e+01\n",
      "Name: INMSUPR, dtype: float64\n"
     ]
    }
   ],
   "source": [
    "print(df.INMSUPR)\n",
    "print(df.INMSUPR.isnull())\n",
    "print(df.INMSUPR.describe())"
   ]
  },
  {
   "cell_type": "code",
   "execution_count": 85,
   "id": "27acc647",
   "metadata": {},
   "outputs": [
    {
     "name": "stdout",
     "output_type": "stream",
     "text": [
      "0          1\n",
      "1          1\n",
      "2          2\n",
      "3          2\n",
      "4          1\n",
      "          ..\n",
      "1048570    2\n",
      "1048571    1\n",
      "1048572    2\n",
      "1048573    2\n",
      "1048574    2\n",
      "Name: HIPERTENSION, Length: 1048575, dtype: int64\n",
      "0          False\n",
      "1          False\n",
      "2          False\n",
      "3          False\n",
      "4          False\n",
      "           ...  \n",
      "1048570    False\n",
      "1048571    False\n",
      "1048572    False\n",
      "1048573    False\n",
      "1048574    False\n",
      "Name: HIPERTENSION, Length: 1048575, dtype: bool\n",
      "count    1.048575e+06\n",
      "mean     2.128989e+00\n",
      "std      5.236397e+00\n",
      "min      1.000000e+00\n",
      "25%      2.000000e+00\n",
      "50%      2.000000e+00\n",
      "75%      2.000000e+00\n",
      "max      9.800000e+01\n",
      "Name: HIPERTENSION, dtype: float64\n"
     ]
    }
   ],
   "source": [
    "print(df.HIPERTENSION)\n",
    "print(df.HIPERTENSION.isnull())\n",
    "print(df.HIPERTENSION.describe())"
   ]
  },
  {
   "cell_type": "code",
   "execution_count": 86,
   "id": "0aeaca39",
   "metadata": {},
   "outputs": [
    {
     "name": "stdout",
     "output_type": "stream",
     "text": [
      "0          2\n",
      "1          2\n",
      "2          2\n",
      "3          2\n",
      "4          2\n",
      "          ..\n",
      "1048570    2\n",
      "1048571    2\n",
      "1048572    2\n",
      "1048573    2\n",
      "1048574    2\n",
      "Name: OTHER_DISEASE, Length: 1048575, dtype: int64\n",
      "0          False\n",
      "1          False\n",
      "2          False\n",
      "3          False\n",
      "4          False\n",
      "           ...  \n",
      "1048570    False\n",
      "1048571    False\n",
      "1048572    False\n",
      "1048573    False\n",
      "1048574    False\n",
      "Name: OTHER_DISEASE, Length: 1048575, dtype: bool\n",
      "count    1.048575e+06\n",
      "mean     2.435143e+00\n",
      "std      6.646676e+00\n",
      "min      1.000000e+00\n",
      "25%      2.000000e+00\n",
      "50%      2.000000e+00\n",
      "75%      2.000000e+00\n",
      "max      9.800000e+01\n",
      "Name: OTHER_DISEASE, dtype: float64\n"
     ]
    }
   ],
   "source": [
    "print(df.OTHER_DISEASE)\n",
    "print(df.OTHER_DISEASE.isnull())\n",
    "print(df.OTHER_DISEASE.describe())"
   ]
  },
  {
   "cell_type": "code",
   "execution_count": 87,
   "id": "2ae32a69",
   "metadata": {},
   "outputs": [
    {
     "name": "stdout",
     "output_type": "stream",
     "text": [
      "0          2\n",
      "1          2\n",
      "2          2\n",
      "3          2\n",
      "4          2\n",
      "          ..\n",
      "1048570    2\n",
      "1048571    2\n",
      "1048572    2\n",
      "1048573    2\n",
      "1048574    2\n",
      "Name: CARDIOVASCULAR, Length: 1048575, dtype: int64\n",
      "0          False\n",
      "1          False\n",
      "2          False\n",
      "3          False\n",
      "4          False\n",
      "           ...  \n",
      "1048570    False\n",
      "1048571    False\n",
      "1048572    False\n",
      "1048573    False\n",
      "1048574    False\n",
      "Name: CARDIOVASCULAR, Length: 1048575, dtype: bool\n",
      "count    1.048575e+06\n",
      "mean     2.261810e+00\n",
      "std      5.194850e+00\n",
      "min      1.000000e+00\n",
      "25%      2.000000e+00\n",
      "50%      2.000000e+00\n",
      "75%      2.000000e+00\n",
      "max      9.800000e+01\n",
      "Name: CARDIOVASCULAR, dtype: float64\n"
     ]
    }
   ],
   "source": [
    "print(df.CARDIOVASCULAR)\n",
    "print(df.CARDIOVASCULAR.isnull())\n",
    "print(df.CARDIOVASCULAR.describe())"
   ]
  },
  {
   "cell_type": "code",
   "execution_count": 88,
   "id": "ed64ba67",
   "metadata": {},
   "outputs": [
    {
     "name": "stdout",
     "output_type": "stream",
     "text": [
      "0          2\n",
      "1          1\n",
      "2          2\n",
      "3          2\n",
      "4          2\n",
      "          ..\n",
      "1048570    2\n",
      "1048571    2\n",
      "1048572    2\n",
      "1048573    2\n",
      "1048574    2\n",
      "Name: OBESITY, Length: 1048575, dtype: int64\n",
      "0          False\n",
      "1          False\n",
      "2          False\n",
      "3          False\n",
      "4          False\n",
      "           ...  \n",
      "1048570    False\n",
      "1048571    False\n",
      "1048572    False\n",
      "1048573    False\n",
      "1048574    False\n",
      "Name: OBESITY, Length: 1048575, dtype: bool\n",
      "count    1.048575e+06\n",
      "mean     2.125176e+00\n",
      "std      5.175445e+00\n",
      "min      1.000000e+00\n",
      "25%      2.000000e+00\n",
      "50%      2.000000e+00\n",
      "75%      2.000000e+00\n",
      "max      9.800000e+01\n",
      "Name: OBESITY, dtype: float64\n"
     ]
    }
   ],
   "source": [
    "print(df.OBESITY)\n",
    "print(df.OBESITY.isnull())\n",
    "print(df.OBESITY.describe())"
   ]
  },
  {
   "cell_type": "code",
   "execution_count": 89,
   "id": "713dd746",
   "metadata": {},
   "outputs": [
    {
     "name": "stdout",
     "output_type": "stream",
     "text": [
      "0          2\n",
      "1          1\n",
      "2          2\n",
      "3          2\n",
      "4          2\n",
      "          ..\n",
      "1048570    2\n",
      "1048571    2\n",
      "1048572    2\n",
      "1048573    2\n",
      "1048574    2\n",
      "Name: RENAL_CHRONIC, Length: 1048575, dtype: int64\n",
      "0          False\n",
      "1          False\n",
      "2          False\n",
      "3          False\n",
      "4          False\n",
      "           ...  \n",
      "1048570    False\n",
      "1048571    False\n",
      "1048572    False\n",
      "1048573    False\n",
      "1048574    False\n",
      "Name: RENAL_CHRONIC, Length: 1048575, dtype: bool\n",
      "count    1.048575e+06\n",
      "mean     2.257180e+00\n",
      "std      5.135354e+00\n",
      "min      1.000000e+00\n",
      "25%      2.000000e+00\n",
      "50%      2.000000e+00\n",
      "75%      2.000000e+00\n",
      "max      9.800000e+01\n",
      "Name: RENAL_CHRONIC, dtype: float64\n"
     ]
    }
   ],
   "source": [
    "print(df.RENAL_CHRONIC)\n",
    "print(df.RENAL_CHRONIC.isnull())\n",
    "print(df.RENAL_CHRONIC.describe())"
   ]
  },
  {
   "cell_type": "code",
   "execution_count": 90,
   "id": "afe680e1",
   "metadata": {},
   "outputs": [
    {
     "name": "stdout",
     "output_type": "stream",
     "text": [
      "0          2\n",
      "1          2\n",
      "2          2\n",
      "3          2\n",
      "4          2\n",
      "          ..\n",
      "1048570    2\n",
      "1048571    2\n",
      "1048572    2\n",
      "1048573    2\n",
      "1048574    2\n",
      "Name: TOBACCO, Length: 1048575, dtype: int64\n",
      "0          False\n",
      "1          False\n",
      "2          False\n",
      "3          False\n",
      "4          False\n",
      "           ...  \n",
      "1048570    False\n",
      "1048571    False\n",
      "1048572    False\n",
      "1048573    False\n",
      "1048574    False\n",
      "Name: TOBACCO, Length: 1048575, dtype: bool\n",
      "count    1.048575e+06\n",
      "mean     2.214333e+00\n",
      "std      5.323097e+00\n",
      "min      1.000000e+00\n",
      "25%      2.000000e+00\n",
      "50%      2.000000e+00\n",
      "75%      2.000000e+00\n",
      "max      9.800000e+01\n",
      "Name: TOBACCO, dtype: float64\n"
     ]
    }
   ],
   "source": [
    "print(df.TOBACCO)\n",
    "print(df.TOBACCO.isnull())\n",
    "print(df.TOBACCO.describe())"
   ]
  },
  {
   "cell_type": "code",
   "execution_count": 91,
   "id": "110fee57",
   "metadata": {},
   "outputs": [
    {
     "name": "stdout",
     "output_type": "stream",
     "text": [
      "0          3\n",
      "1          5\n",
      "2          3\n",
      "3          7\n",
      "4          3\n",
      "          ..\n",
      "1048570    7\n",
      "1048571    7\n",
      "1048572    7\n",
      "1048573    7\n",
      "1048574    7\n",
      "Name: CLASIFFICATION_FINAL, Length: 1048575, dtype: int64\n",
      "0          False\n",
      "1          False\n",
      "2          False\n",
      "3          False\n",
      "4          False\n",
      "           ...  \n",
      "1048570    False\n",
      "1048571    False\n",
      "1048572    False\n",
      "1048573    False\n",
      "1048574    False\n",
      "Name: CLASIFFICATION_FINAL, Length: 1048575, dtype: bool\n",
      "count    1.048575e+06\n",
      "mean     5.305653e+00\n",
      "std      1.881165e+00\n",
      "min      1.000000e+00\n",
      "25%      3.000000e+00\n",
      "50%      6.000000e+00\n",
      "75%      7.000000e+00\n",
      "max      7.000000e+00\n",
      "Name: CLASIFFICATION_FINAL, dtype: float64\n"
     ]
    }
   ],
   "source": [
    "print(df.CLASIFFICATION_FINAL)\n",
    "print(df.CLASIFFICATION_FINAL.isnull())\n",
    "print(df.CLASIFFICATION_FINAL.describe())"
   ]
  },
  {
   "cell_type": "markdown",
   "id": "2ec8fd61",
   "metadata": {},
   "source": [
    "- sonuç 4 ve üstü ise test negatif veya sonuçsuz"
   ]
  },
  {
   "cell_type": "code",
   "execution_count": 92,
   "id": "e7d66afc",
   "metadata": {},
   "outputs": [
    {
     "name": "stdout",
     "output_type": "stream",
     "text": [
      "0          97\n",
      "1          97\n",
      "2           2\n",
      "3          97\n",
      "4          97\n",
      "           ..\n",
      "1048570    97\n",
      "1048571     2\n",
      "1048572    97\n",
      "1048573    97\n",
      "1048574    97\n",
      "Name: ICU, Length: 1048575, dtype: int64\n",
      "0          False\n",
      "1          False\n",
      "2          False\n",
      "3          False\n",
      "4          False\n",
      "           ...  \n",
      "1048570    False\n",
      "1048571    False\n",
      "1048572    False\n",
      "1048573    False\n",
      "1048574    False\n",
      "Name: ICU, Length: 1048575, dtype: bool\n",
      "count    1.048575e+06\n",
      "mean     7.955397e+01\n",
      "std      3.682307e+01\n",
      "min      1.000000e+00\n",
      "25%      9.700000e+01\n",
      "50%      9.700000e+01\n",
      "75%      9.700000e+01\n",
      "max      9.900000e+01\n",
      "Name: ICU, dtype: float64\n"
     ]
    }
   ],
   "source": [
    "print(df.ICU)\n",
    "print(df.ICU.isnull())\n",
    "print(df.ICU.describe())"
   ]
  },
  {
   "cell_type": "markdown",
   "id": "e55e5783",
   "metadata": {},
   "source": [
    "- hastanın yoğun bakımda olması... 97, 99 var sil"
   ]
  },
  {
   "cell_type": "code",
   "execution_count": 93,
   "id": "150e8dc2",
   "metadata": {},
   "outputs": [
    {
     "name": "stdout",
     "output_type": "stream",
     "text": [
      "0          False\n",
      "1          False\n",
      "2          False\n",
      "3          False\n",
      "4          False\n",
      "           ...  \n",
      "1048570     True\n",
      "1048571    False\n",
      "1048572    False\n",
      "1048573     True\n",
      "1048574    False\n",
      "Length: 1048575, dtype: bool\n"
     ]
    }
   ],
   "source": [
    "print(df.duplicated())"
   ]
  },
  {
   "cell_type": "code",
   "execution_count": 94,
   "id": "9ba23dc3",
   "metadata": {},
   "outputs": [
    {
     "name": "stdout",
     "output_type": "stream",
     "text": [
      "         USMER  MEDICAL_UNIT  SEX  PATIENT_TYPE  DATE_DIED  INTUBED  \\\n",
      "19           2             1    1             1          1       97   \n",
      "35           2             1    2             1          1       97   \n",
      "62           2             1    1             2          1        2   \n",
      "63           2             1    2             1          1       97   \n",
      "75           2             1    1             1          1       97   \n",
      "...        ...           ...  ...           ...        ...      ...   \n",
      "1048556      2            13    2             1          1       97   \n",
      "1048558      1            13    2             1          1       97   \n",
      "1048566      2            13    2             1          1       97   \n",
      "1048570      2            13    2             1          1       97   \n",
      "1048573      2            13    2             1          1       97   \n",
      "\n",
      "         PNEUMONIA  AGE  PREGNANT  DIABETES  ...  ASTHMA  INMSUPR  \\\n",
      "19               2   64         2         2  ...       2        2   \n",
      "35               2   45        97         2  ...       2        2   \n",
      "62               2   25         2         2  ...       2        2   \n",
      "63               2   33        97         2  ...       2        2   \n",
      "75               2   24         2         2  ...       2        2   \n",
      "...            ...  ...       ...       ...  ...     ...      ...   \n",
      "1048556          2   31        97         2  ...       2        2   \n",
      "1048558          2   28        97         2  ...       2        2   \n",
      "1048566          2   24        97         2  ...       1        2   \n",
      "1048570          2   40        97         2  ...       2        2   \n",
      "1048573          2   28        97         2  ...       2        2   \n",
      "\n",
      "         HIPERTENSION  OTHER_DISEASE  CARDIOVASCULAR  OBESITY  RENAL_CHRONIC  \\\n",
      "19                  2              2               2        2              2   \n",
      "35                  2              2               2        2              2   \n",
      "62                  2              2               2        2              2   \n",
      "63                  2              2               2        2              2   \n",
      "75                  2              2               2        2              2   \n",
      "...               ...            ...             ...      ...            ...   \n",
      "1048556             2              2               2        2              2   \n",
      "1048558             2              2               2        2              2   \n",
      "1048566             2              2               2        2              2   \n",
      "1048570             2              2               2        2              2   \n",
      "1048573             2              2               2        2              2   \n",
      "\n",
      "         TOBACCO  CLASIFFICATION_FINAL  ICU  \n",
      "19             2                     3   97  \n",
      "35             2                     3   97  \n",
      "62             2                     7    2  \n",
      "63             2                     7   97  \n",
      "75             2                     7   97  \n",
      "...          ...                   ...  ...  \n",
      "1048556        2                     7   97  \n",
      "1048558        2                     7   97  \n",
      "1048566        2                     7   97  \n",
      "1048570        2                     7   97  \n",
      "1048573        2                     7   97  \n",
      "\n",
      "[836562 rows x 21 columns]\n"
     ]
    }
   ],
   "source": [
    "print(df[df.duplicated()])"
   ]
  },
  {
   "cell_type": "code",
   "execution_count": 95,
   "id": "92b9504f",
   "metadata": {},
   "outputs": [],
   "source": [
    "df.drop_duplicates(inplace=True)"
   ]
  },
  {
   "cell_type": "code",
   "execution_count": 96,
   "id": "af683986",
   "metadata": {},
   "outputs": [
    {
     "name": "stdout",
     "output_type": "stream",
     "text": [
      "         USMER  MEDICAL_UNIT  SEX  PATIENT_TYPE  DATE_DIED  INTUBED  \\\n",
      "0            2             1    1             1          2       97   \n",
      "1            2             1    2             1          2       97   \n",
      "2            2             1    2             2          2        1   \n",
      "3            2             1    1             1          2       97   \n",
      "4            2             1    2             1          2       97   \n",
      "...        ...           ...  ...           ...        ...      ...   \n",
      "1048568      1            13    2             1          1       97   \n",
      "1048569      1            13    1             2          1        2   \n",
      "1048571      1            13    2             2          1        2   \n",
      "1048572      2            13    2             1          1       97   \n",
      "1048574      2            13    2             1          1       97   \n",
      "\n",
      "         PNEUMONIA  AGE  PREGNANT  DIABETES  ...  ASTHMA  INMSUPR  \\\n",
      "0                1   65         2         2  ...       2        2   \n",
      "1                1   72        97         2  ...       2        2   \n",
      "2                2   55        97         1  ...       2        2   \n",
      "3                2   53         2         2  ...       2        2   \n",
      "4                2   68        97         1  ...       2        2   \n",
      "...            ...  ...       ...       ...  ...     ...      ...   \n",
      "1048568          2   47        97         1  ...       2        2   \n",
      "1048569          2   56         2         1  ...       2        2   \n",
      "1048571          2   51        97         2  ...       2        2   \n",
      "1048572          2   55        97         2  ...       2        2   \n",
      "1048574          2   52        97         2  ...       2        2   \n",
      "\n",
      "         HIPERTENSION  OTHER_DISEASE  CARDIOVASCULAR  OBESITY  RENAL_CHRONIC  \\\n",
      "0                   1              2               2        2              2   \n",
      "1                   1              2               2        1              1   \n",
      "2                   2              2               2        2              2   \n",
      "3                   2              2               2        2              2   \n",
      "4                   1              2               2        2              2   \n",
      "...               ...            ...             ...      ...            ...   \n",
      "1048568             2              2               2        2              2   \n",
      "1048569             2              2               2        2              2   \n",
      "1048571             1              2               2        2              2   \n",
      "1048572             2              2               2        2              2   \n",
      "1048574             2              2               2        2              2   \n",
      "\n",
      "         TOBACCO  CLASIFFICATION_FINAL  ICU  \n",
      "0              2                     3   97  \n",
      "1              2                     5   97  \n",
      "2              2                     3    2  \n",
      "3              2                     7   97  \n",
      "4              2                     3   97  \n",
      "...          ...                   ...  ...  \n",
      "1048568        2                     7   97  \n",
      "1048569        2                     7    2  \n",
      "1048571        2                     7    2  \n",
      "1048572        2                     7   97  \n",
      "1048574        2                     7   97  \n",
      "\n",
      "[212013 rows x 21 columns]\n"
     ]
    }
   ],
   "source": [
    "print(df)"
   ]
  },
  {
   "cell_type": "code",
   "execution_count": 97,
   "id": "2b1ad2b1",
   "metadata": {},
   "outputs": [
    {
     "name": "stdout",
     "output_type": "stream",
     "text": [
      "         USMER  MEDICAL_UNIT  SEX  PATIENT_TYPE  DATE_DIED  INTUBED  \\\n",
      "0            2             1    1             1          2       97   \n",
      "1            2             1    2             1          2       97   \n",
      "2            2             1    2             2          2        1   \n",
      "3            2             1    1             1          2       97   \n",
      "4            2             1    2             1          2       97   \n",
      "...        ...           ...  ...           ...        ...      ...   \n",
      "1048568      1            13    2             1          1       97   \n",
      "1048569      1            13    1             2          1        2   \n",
      "1048571      1            13    2             2          1        2   \n",
      "1048572      2            13    2             1          1       97   \n",
      "1048574      2            13    2             1          1       97   \n",
      "\n",
      "         PNEUMONIA  AGE  PREGNANT  DIABETES  ...  ASTHMA  INMSUPR  \\\n",
      "0                1   65         2         2  ...       2        2   \n",
      "1                1   72        97         2  ...       2        2   \n",
      "2                2   55        97         1  ...       2        2   \n",
      "3                2   53         2         2  ...       2        2   \n",
      "4                2   68        97         1  ...       2        2   \n",
      "...            ...  ...       ...       ...  ...     ...      ...   \n",
      "1048568          2   47        97         1  ...       2        2   \n",
      "1048569          2   56         2         1  ...       2        2   \n",
      "1048571          2   51        97         2  ...       2        2   \n",
      "1048572          2   55        97         2  ...       2        2   \n",
      "1048574          2   52        97         2  ...       2        2   \n",
      "\n",
      "         HIPERTENSION  OTHER_DISEASE  CARDIOVASCULAR  OBESITY  RENAL_CHRONIC  \\\n",
      "0                   1              2               2        2              2   \n",
      "1                   1              2               2        1              1   \n",
      "2                   2              2               2        2              2   \n",
      "3                   2              2               2        2              2   \n",
      "4                   1              2               2        2              2   \n",
      "...               ...            ...             ...      ...            ...   \n",
      "1048568             2              2               2        2              2   \n",
      "1048569             2              2               2        2              2   \n",
      "1048571             1              2               2        2              2   \n",
      "1048572             2              2               2        2              2   \n",
      "1048574             2              2               2        2              2   \n",
      "\n",
      "         TOBACCO  CLASIFFICATION_FINAL  ICU  \n",
      "0              2                     3   97  \n",
      "1              2                     5   97  \n",
      "2              2                     3    2  \n",
      "3              2                     7   97  \n",
      "4              2                     3   97  \n",
      "...          ...                   ...  ...  \n",
      "1048568        2                     7   97  \n",
      "1048569        2                     7    2  \n",
      "1048571        2                     7    2  \n",
      "1048572        2                     7   97  \n",
      "1048574        2                     7   97  \n",
      "\n",
      "[212013 rows x 21 columns]\n"
     ]
    }
   ],
   "source": [
    "print(df)"
   ]
  },
  {
   "cell_type": "markdown",
   "id": "d2b1e026",
   "metadata": {},
   "source": [
    "YAPILACAKLAR\n",
    "- DATE_DIED sütunundaki verileri 9999-99-99 hala hayatta (1) diğerleri vefat etmiş (2) \n",
    "- INTUBED, PNEUMONIA, PREGNANT, DIABETES, ASTHMA, INMSUPR, HIPERTENSION, OTHER_DISEASE, CARDIOVASCULAR, OBESITY, RENAL_CHRONIC, TOBACCO, ICU sütunlarındaki missing value (97,99) değerlerini duruma göre doldur veya sil.\n",
    "- CLASIFFICATION_FINAL sıralaman gerekir mi bak"
   ]
  },
  {
   "cell_type": "code",
   "execution_count": 98,
   "id": "8cd93088",
   "metadata": {},
   "outputs": [],
   "source": [
    "# PREGRANT sütununu tamamen sil (ölüm sayısını etkiler ama covid olma durumunu etkiler mi şu an ona bakılmayack)\n",
    "df.drop(\"PREGNANT\", inplace=True, axis=1)"
   ]
  },
  {
   "cell_type": "code",
   "execution_count": 99,
   "id": "b5efda4e",
   "metadata": {
    "scrolled": false
   },
   "outputs": [
    {
     "name": "stdout",
     "output_type": "stream",
     "text": [
      "         USMER  MEDICAL_UNIT  SEX  PATIENT_TYPE  DATE_DIED  INTUBED  \\\n",
      "0            2             1    1             1          2       97   \n",
      "1            2             1    2             1          2       97   \n",
      "2            2             1    2             2          2        1   \n",
      "3            2             1    1             1          2       97   \n",
      "4            2             1    2             1          2       97   \n",
      "...        ...           ...  ...           ...        ...      ...   \n",
      "1048568      1            13    2             1          1       97   \n",
      "1048569      1            13    1             2          1        2   \n",
      "1048571      1            13    2             2          1        2   \n",
      "1048572      2            13    2             1          1       97   \n",
      "1048574      2            13    2             1          1       97   \n",
      "\n",
      "         PNEUMONIA  AGE  DIABETES  COPD  ASTHMA  INMSUPR  HIPERTENSION  \\\n",
      "0                1   65         2     2       2        2             1   \n",
      "1                1   72         2     2       2        2             1   \n",
      "2                2   55         1     2       2        2             2   \n",
      "3                2   53         2     2       2        2             2   \n",
      "4                2   68         1     2       2        2             1   \n",
      "...            ...  ...       ...   ...     ...      ...           ...   \n",
      "1048568          2   47         1     2       2        2             2   \n",
      "1048569          2   56         1     2       2        2             2   \n",
      "1048571          2   51         2     2       2        2             1   \n",
      "1048572          2   55         2     2       2        2             2   \n",
      "1048574          2   52         2     2       2        2             2   \n",
      "\n",
      "         OTHER_DISEASE  CARDIOVASCULAR  OBESITY  RENAL_CHRONIC  TOBACCO  \\\n",
      "0                    2               2        2              2        2   \n",
      "1                    2               2        1              1        2   \n",
      "2                    2               2        2              2        2   \n",
      "3                    2               2        2              2        2   \n",
      "4                    2               2        2              2        2   \n",
      "...                ...             ...      ...            ...      ...   \n",
      "1048568              2               2        2              2        2   \n",
      "1048569              2               2        2              2        2   \n",
      "1048571              2               2        2              2        2   \n",
      "1048572              2               2        2              2        2   \n",
      "1048574              2               2        2              2        2   \n",
      "\n",
      "         CLASIFFICATION_FINAL  ICU  \n",
      "0                           3   97  \n",
      "1                           5   97  \n",
      "2                           3    2  \n",
      "3                           7   97  \n",
      "4                           3   97  \n",
      "...                       ...  ...  \n",
      "1048568                     7   97  \n",
      "1048569                     7    2  \n",
      "1048571                     7    2  \n",
      "1048572                     7   97  \n",
      "1048574                     7   97  \n",
      "\n",
      "[212013 rows x 20 columns]\n"
     ]
    }
   ],
   "source": [
    "print(df)"
   ]
  },
  {
   "cell_type": "code",
   "execution_count": 100,
   "id": "0af4a46e",
   "metadata": {},
   "outputs": [
    {
     "name": "stdout",
     "output_type": "stream",
     "text": [
      "0          2\n",
      "1          2\n",
      "2          2\n",
      "3          2\n",
      "4          2\n",
      "          ..\n",
      "1048568    1\n",
      "1048569    1\n",
      "1048571    1\n",
      "1048572    1\n",
      "1048574    1\n",
      "Name: DATE_DIED, Length: 212013, dtype: int64\n",
      "0          False\n",
      "1          False\n",
      "2          False\n",
      "3          False\n",
      "4          False\n",
      "           ...  \n",
      "1048568    False\n",
      "1048569    False\n",
      "1048571    False\n",
      "1048572    False\n",
      "1048574    False\n",
      "Name: DATE_DIED, Length: 212013, dtype: bool\n"
     ]
    }
   ],
   "source": [
    "#DATE_DIED sütununu kullanarak BEING_ALIVE sütunu oluştur sonrasında DATE_DIED sütununu sil\n",
    "print(df.DATE_DIED)\n",
    "print(df.DATE_DIED.isnull()) #isnull olarak tanımlanmamış !ilk satırlarda düzeltme yapıldı! 1 hayatta 2 vefat etmiş"
   ]
  },
  {
   "cell_type": "code",
   "execution_count": 101,
   "id": "ecc6cebb",
   "metadata": {},
   "outputs": [],
   "source": [
    "#INTUBED 97 olanları saydır, fazla ise sütunu tamamen sil\n",
    "from collections import Counter"
   ]
  },
  {
   "cell_type": "code",
   "execution_count": 102,
   "id": "600daf1f",
   "metadata": {},
   "outputs": [
    {
     "data": {
      "text/plain": [
       "Counter({97: 98755, 1: 23747, 2: 84126, 99: 5385})"
      ]
     },
     "execution_count": 102,
     "metadata": {},
     "output_type": "execute_result"
    }
   ],
   "source": [
    "Counter(df.INTUBED)"
   ]
  },
  {
   "cell_type": "code",
   "execution_count": 135,
   "id": "3d1ea051",
   "metadata": {},
   "outputs": [
    {
     "name": "stdout",
     "output_type": "stream",
     "text": [
      "         USMER  MEDICAL_UNIT  SEX  PATIENT_TYPE  DATE_DIED  INTUBED  \\\n",
      "0            2             1    1             1          2       97   \n",
      "1            2             1    2             1          2       97   \n",
      "2            2             1    2             2          2        1   \n",
      "3            2             1    1             1          2       97   \n",
      "4            2             1    2             1          2       97   \n",
      "...        ...           ...  ...           ...        ...      ...   \n",
      "1048570      2            13    2             1          1       97   \n",
      "1048571      1            13    2             2          1        2   \n",
      "1048572      2            13    2             1          1       97   \n",
      "1048573      2            13    2             1          1       97   \n",
      "1048574      2            13    2             1          1       97   \n",
      "\n",
      "         PNEUMONIA  AGE  PREGNANT  DIABETES  ...  ASTHMA  INMSUPR  \\\n",
      "0                1   65         2         2  ...       2        2   \n",
      "1                1   72        97         2  ...       2        2   \n",
      "2                2   55        97         1  ...       2        2   \n",
      "3                2   53         2         2  ...       2        2   \n",
      "4                2   68        97         1  ...       2        2   \n",
      "...            ...  ...       ...       ...  ...     ...      ...   \n",
      "1048570          2   40        97         2  ...       2        2   \n",
      "1048571          2   51        97         2  ...       2        2   \n",
      "1048572          2   55        97         2  ...       2        2   \n",
      "1048573          2   28        97         2  ...       2        2   \n",
      "1048574          2   52        97         2  ...       2        2   \n",
      "\n",
      "         HIPERTENSION  OTHER_DISEASE  CARDIOVASCULAR  OBESITY  RENAL_CHRONIC  \\\n",
      "0                   1              2               2        2              2   \n",
      "1                   1              2               2        1              1   \n",
      "2                   2              2               2        2              2   \n",
      "3                   2              2               2        2              2   \n",
      "4                   1              2               2        2              2   \n",
      "...               ...            ...             ...      ...            ...   \n",
      "1048570             2              2               2        2              2   \n",
      "1048571             1              2               2        2              2   \n",
      "1048572             2              2               2        2              2   \n",
      "1048573             2              2               2        2              2   \n",
      "1048574             2              2               2        2              2   \n",
      "\n",
      "         TOBACCO  CLASIFFICATION_FINAL  ICU  \n",
      "0              2                     3   97  \n",
      "1              2                     5   97  \n",
      "2              2                     3    2  \n",
      "3              2                     7   97  \n",
      "4              2                     3   97  \n",
      "...          ...                   ...  ...  \n",
      "1048570        2                     7   97  \n",
      "1048571        2                     7    2  \n",
      "1048572        2                     7   97  \n",
      "1048573        2                     7   97  \n",
      "1048574        2                     7   97  \n",
      "\n",
      "[1048573 rows x 21 columns]\n"
     ]
    }
   ],
   "source": [
    "# 97 ve 99 olan satırlar silinecek\n",
    "print(df) # en üste taşıdığım drop neden çalışmadı?"
   ]
  },
  {
   "cell_type": "code",
   "execution_count": 140,
   "id": "f610c2bb",
   "metadata": {},
   "outputs": [],
   "source": [
    "df.drop(df[df['INTUBED'] >= 3].index, inplace = True)"
   ]
  },
  {
   "cell_type": "code",
   "execution_count": 141,
   "id": "898404e2",
   "metadata": {},
   "outputs": [
    {
     "name": "stdout",
     "output_type": "stream",
     "text": [
      "         USMER  MEDICAL_UNIT  SEX  PATIENT_TYPE  DATE_DIED  INTUBED  \\\n",
      "2            2             1    2             2          2        1   \n",
      "5            2             1    1             2          1        2   \n",
      "8            2             1    1             2          1        2   \n",
      "9            2             1    1             2          1        2   \n",
      "11           2             1    2             2          1        2   \n",
      "...        ...           ...  ...           ...        ...      ...   \n",
      "1048553      2            13    1             2          1        2   \n",
      "1048554      2            13    1             2          1        2   \n",
      "1048567      1            13    1             2          1        2   \n",
      "1048569      1            13    1             2          1        2   \n",
      "1048571      1            13    2             2          1        2   \n",
      "\n",
      "         PNEUMONIA  AGE  PREGNANT  DIABETES  ...  ASTHMA  INMSUPR  \\\n",
      "2                2   55        97         1  ...       2        2   \n",
      "5                1   40         2         2  ...       2        2   \n",
      "8                2   37         2         1  ...       2        2   \n",
      "9                2   25         2         2  ...       2        2   \n",
      "11               2   24        97         2  ...       2        2   \n",
      "...            ...  ...       ...       ...  ...     ...      ...   \n",
      "1048553          1   61         2         1  ...       2        2   \n",
      "1048554          1   63         2         2  ...       1        2   \n",
      "1048567          2   23         2         1  ...       2        2   \n",
      "1048569          2   56         2         1  ...       2        2   \n",
      "1048571          2   51        97         2  ...       2        2   \n",
      "\n",
      "         HIPERTENSION  OTHER_DISEASE  CARDIOVASCULAR  OBESITY  RENAL_CHRONIC  \\\n",
      "2                   2              2               2        2              2   \n",
      "5                   2              2               2        2              2   \n",
      "8                   1              2               2        1              2   \n",
      "9                   2              2               2        2              2   \n",
      "11                  2              2               2        2              2   \n",
      "...               ...            ...             ...      ...            ...   \n",
      "1048553             1              2               2        2              2   \n",
      "1048554             2              2               2        1              2   \n",
      "1048567             2              2               2        1              2   \n",
      "1048569             2              2               2        2              2   \n",
      "1048571             1              2               2        2              2   \n",
      "\n",
      "         TOBACCO  CLASIFFICATION_FINAL  ICU  \n",
      "2              2                     3    2  \n",
      "5              2                     3    2  \n",
      "8              2                     3    2  \n",
      "9              2                     3    2  \n",
      "11             2                     3    2  \n",
      "...          ...                   ...  ...  \n",
      "1048553        2                     7    2  \n",
      "1048554        2                     7    2  \n",
      "1048567        2                     7    2  \n",
      "1048569        2                     7    2  \n",
      "1048571        2                     7    2  \n",
      "\n",
      "[192706 rows x 21 columns]\n"
     ]
    }
   ],
   "source": [
    "print(df)"
   ]
  },
  {
   "cell_type": "code",
   "execution_count": 143,
   "id": "910d9971",
   "metadata": {},
   "outputs": [],
   "source": [
    "#diğer columnlarda tanımlanan 97 98 leri de sil (age hariç-gerçek yaş olabilir)\n",
    "df.drop(df[df['SEX'] >= 3].index, inplace = True)"
   ]
  },
  {
   "cell_type": "code",
   "execution_count": 144,
   "id": "db55387a",
   "metadata": {},
   "outputs": [
    {
     "name": "stdout",
     "output_type": "stream",
     "text": [
      "         USMER  MEDICAL_UNIT  SEX  PATIENT_TYPE  DATE_DIED  INTUBED  \\\n",
      "2            2             1    2             2          2        1   \n",
      "5            2             1    1             2          1        2   \n",
      "8            2             1    1             2          1        2   \n",
      "9            2             1    1             2          1        2   \n",
      "11           2             1    2             2          1        2   \n",
      "...        ...           ...  ...           ...        ...      ...   \n",
      "1048553      2            13    1             2          1        2   \n",
      "1048554      2            13    1             2          1        2   \n",
      "1048567      1            13    1             2          1        2   \n",
      "1048569      1            13    1             2          1        2   \n",
      "1048571      1            13    2             2          1        2   \n",
      "\n",
      "         PNEUMONIA  AGE  PREGNANT  DIABETES  ...  ASTHMA  INMSUPR  \\\n",
      "2                2   55        97         1  ...       2        2   \n",
      "5                1   40         2         2  ...       2        2   \n",
      "8                2   37         2         1  ...       2        2   \n",
      "9                2   25         2         2  ...       2        2   \n",
      "11               2   24        97         2  ...       2        2   \n",
      "...            ...  ...       ...       ...  ...     ...      ...   \n",
      "1048553          1   61         2         1  ...       2        2   \n",
      "1048554          1   63         2         2  ...       1        2   \n",
      "1048567          2   23         2         1  ...       2        2   \n",
      "1048569          2   56         2         1  ...       2        2   \n",
      "1048571          2   51        97         2  ...       2        2   \n",
      "\n",
      "         HIPERTENSION  OTHER_DISEASE  CARDIOVASCULAR  OBESITY  RENAL_CHRONIC  \\\n",
      "2                   2              2               2        2              2   \n",
      "5                   2              2               2        2              2   \n",
      "8                   1              2               2        1              2   \n",
      "9                   2              2               2        2              2   \n",
      "11                  2              2               2        2              2   \n",
      "...               ...            ...             ...      ...            ...   \n",
      "1048553             1              2               2        2              2   \n",
      "1048554             2              2               2        1              2   \n",
      "1048567             2              2               2        1              2   \n",
      "1048569             2              2               2        2              2   \n",
      "1048571             1              2               2        2              2   \n",
      "\n",
      "         TOBACCO  CLASIFFICATION_FINAL  ICU  \n",
      "2              2                     3    2  \n",
      "5              2                     3    2  \n",
      "8              2                     3    2  \n",
      "9              2                     3    2  \n",
      "11             2                     3    2  \n",
      "...          ...                   ...  ...  \n",
      "1048553        2                     7    2  \n",
      "1048554        2                     7    2  \n",
      "1048567        2                     7    2  \n",
      "1048569        2                     7    2  \n",
      "1048571        2                     7    2  \n",
      "\n",
      "[192706 rows x 21 columns]\n"
     ]
    }
   ],
   "source": [
    "print(df)"
   ]
  },
  {
   "cell_type": "code",
   "execution_count": 145,
   "id": "c4f99d1c",
   "metadata": {},
   "outputs": [],
   "source": [
    "df.drop(df[df['PATIENT_TYPE'] >= 3].index, inplace = True)"
   ]
  },
  {
   "cell_type": "code",
   "execution_count": 146,
   "id": "f844cbd2",
   "metadata": {},
   "outputs": [],
   "source": [
    "df.drop(df[df['PNEUMONIA'] >= 3].index, inplace = True)"
   ]
  },
  {
   "cell_type": "code",
   "execution_count": 147,
   "id": "41d83055",
   "metadata": {},
   "outputs": [],
   "source": [
    "df.drop(df[df['PREGNANT'] >= 3].index, inplace = True)"
   ]
  },
  {
   "cell_type": "code",
   "execution_count": 148,
   "id": "0535e892",
   "metadata": {},
   "outputs": [],
   "source": [
    "df.drop(df[df['DIABETES'] >= 3].index, inplace = True)"
   ]
  },
  {
   "cell_type": "code",
   "execution_count": 149,
   "id": "01ae7d09",
   "metadata": {},
   "outputs": [],
   "source": [
    "df.drop(df[df['ASTHMA'] >= 3].index, inplace = True)"
   ]
  },
  {
   "cell_type": "code",
   "execution_count": 150,
   "id": "04974119",
   "metadata": {},
   "outputs": [],
   "source": [
    "df.drop(df[df['INMSUPR'] >= 3].index, inplace = True)"
   ]
  },
  {
   "cell_type": "code",
   "execution_count": 151,
   "id": "29016fa4",
   "metadata": {},
   "outputs": [],
   "source": [
    "df.drop(df[df['HIPERTENSION'] >= 3].index, inplace = True)"
   ]
  },
  {
   "cell_type": "code",
   "execution_count": 152,
   "id": "a1a96c97",
   "metadata": {},
   "outputs": [],
   "source": [
    "df.drop(df[df['OTHER_DISEASE'] >= 3].index, inplace = True)"
   ]
  },
  {
   "cell_type": "code",
   "execution_count": 153,
   "id": "e5fa3d01",
   "metadata": {},
   "outputs": [],
   "source": [
    "df.drop(df[df['CARDIOVASCULAR'] >= 3].index, inplace = True)"
   ]
  },
  {
   "cell_type": "code",
   "execution_count": 154,
   "id": "fd7866ed",
   "metadata": {},
   "outputs": [],
   "source": [
    "df.drop(df[df['OBESITY'] >= 3].index, inplace = True)"
   ]
  },
  {
   "cell_type": "code",
   "execution_count": 155,
   "id": "a2fdf8de",
   "metadata": {},
   "outputs": [],
   "source": [
    "df.drop(df[df['RENAL_CHRONIC'] >= 3].index, inplace = True)"
   ]
  },
  {
   "cell_type": "code",
   "execution_count": 156,
   "id": "e9a2e62b",
   "metadata": {},
   "outputs": [],
   "source": [
    "df.drop(df[df['TOBACCO'] >= 3].index, inplace = True)"
   ]
  },
  {
   "cell_type": "code",
   "execution_count": 157,
   "id": "9d931452",
   "metadata": {},
   "outputs": [],
   "source": [
    "df.drop(df[df['ICU'] >= 3].index, inplace = True)"
   ]
  },
  {
   "cell_type": "code",
   "execution_count": 158,
   "id": "cf5a0995",
   "metadata": {},
   "outputs": [
    {
     "name": "stdout",
     "output_type": "stream",
     "text": [
      "         USMER  MEDICAL_UNIT  SEX  PATIENT_TYPE  DATE_DIED  INTUBED  \\\n",
      "5            2             1    1             2          1        2   \n",
      "8            2             1    1             2          1        2   \n",
      "9            2             1    1             2          1        2   \n",
      "16           2             1    1             2          1        2   \n",
      "56           2             1    1             2          1        1   \n",
      "...        ...           ...  ...           ...        ...      ...   \n",
      "1048535      1            13    1             2          1        2   \n",
      "1048553      2            13    1             2          1        2   \n",
      "1048554      2            13    1             2          1        2   \n",
      "1048567      1            13    1             2          1        2   \n",
      "1048569      1            13    1             2          1        2   \n",
      "\n",
      "         PNEUMONIA  AGE  PREGNANT  DIABETES  ...  ASTHMA  INMSUPR  \\\n",
      "5                1   40         2         2  ...       2        2   \n",
      "8                2   37         2         1  ...       2        2   \n",
      "9                2   25         2         2  ...       2        2   \n",
      "16               1   80         2         2  ...       2        2   \n",
      "56               1   58         2         2  ...       2        2   \n",
      "...            ...  ...       ...       ...  ...     ...      ...   \n",
      "1048535          2   79         2         2  ...       2        2   \n",
      "1048553          1   61         2         1  ...       2        2   \n",
      "1048554          1   63         2         2  ...       1        2   \n",
      "1048567          2   23         2         1  ...       2        2   \n",
      "1048569          2   56         2         1  ...       2        2   \n",
      "\n",
      "         HIPERTENSION  OTHER_DISEASE  CARDIOVASCULAR  OBESITY  RENAL_CHRONIC  \\\n",
      "5                   2              2               2        2              2   \n",
      "8                   1              2               2        1              2   \n",
      "9                   2              2               2        2              2   \n",
      "16                  1              2               2        2              2   \n",
      "56                  1              2               1        1              2   \n",
      "...               ...            ...             ...      ...            ...   \n",
      "1048535             1              2               2        2              2   \n",
      "1048553             1              2               2        2              2   \n",
      "1048554             2              2               2        1              2   \n",
      "1048567             2              2               2        1              2   \n",
      "1048569             2              2               2        2              2   \n",
      "\n",
      "         TOBACCO  CLASIFFICATION_FINAL  ICU  \n",
      "5              2                     3    2  \n",
      "8              2                     3    2  \n",
      "9              2                     3    2  \n",
      "16             2                     3    1  \n",
      "56             2                     7    1  \n",
      "...          ...                   ...  ...  \n",
      "1048535        2                     7    2  \n",
      "1048553        2                     7    2  \n",
      "1048554        2                     7    2  \n",
      "1048567        2                     7    2  \n",
      "1048569        2                     7    2  \n",
      "\n",
      "[76841 rows x 21 columns]\n"
     ]
    }
   ],
   "source": [
    "print(df)"
   ]
  },
  {
   "cell_type": "code",
   "execution_count": 159,
   "id": "ecff0b06",
   "metadata": {},
   "outputs": [
    {
     "name": "stdout",
     "output_type": "stream",
     "text": [
      "         USMER  MEDICAL_UNIT  SEX  PATIENT_TYPE  DATE_DIED  INTUBED  \\\n",
      "5            2             1    1             2          1        2   \n",
      "8            2             1    1             2          1        2   \n",
      "9            2             1    1             2          1        2   \n",
      "16           2             1    1             2          1        2   \n",
      "56           2             1    1             2          1        1   \n",
      "...        ...           ...  ...           ...        ...      ...   \n",
      "1048535      1            13    1             2          1        2   \n",
      "1048553      2            13    1             2          1        2   \n",
      "1048554      2            13    1             2          1        2   \n",
      "1048567      1            13    1             2          1        2   \n",
      "1048569      1            13    1             2          1        2   \n",
      "\n",
      "         PNEUMONIA  AGE  PREGNANT  DIABETES  ...  ASTHMA  INMSUPR  \\\n",
      "5                1   40         2         2  ...       2        2   \n",
      "8                2   37         2         1  ...       2        2   \n",
      "9                2   25         2         2  ...       2        2   \n",
      "16               1   80         2         2  ...       2        2   \n",
      "56               1   58         2         2  ...       2        2   \n",
      "...            ...  ...       ...       ...  ...     ...      ...   \n",
      "1048535          2   79         2         2  ...       2        2   \n",
      "1048553          1   61         2         1  ...       2        2   \n",
      "1048554          1   63         2         2  ...       1        2   \n",
      "1048567          2   23         2         1  ...       2        2   \n",
      "1048569          2   56         2         1  ...       2        2   \n",
      "\n",
      "         HIPERTENSION  OTHER_DISEASE  CARDIOVASCULAR  OBESITY  RENAL_CHRONIC  \\\n",
      "5                   2              2               2        2              2   \n",
      "8                   1              2               2        1              2   \n",
      "9                   2              2               2        2              2   \n",
      "16                  1              2               2        2              2   \n",
      "56                  1              2               1        1              2   \n",
      "...               ...            ...             ...      ...            ...   \n",
      "1048535             1              2               2        2              2   \n",
      "1048553             1              2               2        2              2   \n",
      "1048554             2              2               2        1              2   \n",
      "1048567             2              2               2        1              2   \n",
      "1048569             2              2               2        2              2   \n",
      "\n",
      "         TOBACCO  CLASIFFICATION_FINAL  ICU  \n",
      "5              2                     3    2  \n",
      "8              2                     3    2  \n",
      "9              2                     3    2  \n",
      "16             2                     3    1  \n",
      "56             2                     7    1  \n",
      "...          ...                   ...  ...  \n",
      "1048535        2                     7    2  \n",
      "1048553        2                     7    2  \n",
      "1048554        2                     7    2  \n",
      "1048567        2                     7    2  \n",
      "1048569        2                     7    2  \n",
      "\n",
      "[76841 rows x 21 columns]\n"
     ]
    }
   ],
   "source": [
    "df.dropna(inplace=True)\n",
    "print(df) "
   ]
  },
  {
   "cell_type": "code",
   "execution_count": 162,
   "id": "bcf4e2e2",
   "metadata": {},
   "outputs": [
    {
     "name": "stdout",
     "output_type": "stream",
     "text": [
      "         USMER  MEDICAL_UNIT  SEX  PATIENT_TYPE  DATE_DIED  INTUBED  \\\n",
      "5            2             1    1             2          1        2   \n",
      "8            2             1    1             2          1        2   \n",
      "9            2             1    1             2          1        2   \n",
      "16           2             1    1             2          1        2   \n",
      "56           2             1    1             2          1        1   \n",
      "...        ...           ...  ...           ...        ...      ...   \n",
      "1048535      1            13    1             2          1        2   \n",
      "1048553      2            13    1             2          1        2   \n",
      "1048554      2            13    1             2          1        2   \n",
      "1048567      1            13    1             2          1        2   \n",
      "1048569      1            13    1             2          1        2   \n",
      "\n",
      "         PNEUMONIA  AGE  PREGNANT  DIABETES  ...  ASTHMA  INMSUPR  \\\n",
      "5                1   40         2         2  ...       2        2   \n",
      "8                2   37         2         1  ...       2        2   \n",
      "9                2   25         2         2  ...       2        2   \n",
      "16               1   80         2         2  ...       2        2   \n",
      "56               1   58         2         2  ...       2        2   \n",
      "...            ...  ...       ...       ...  ...     ...      ...   \n",
      "1048535          2   79         2         2  ...       2        2   \n",
      "1048553          1   61         2         1  ...       2        2   \n",
      "1048554          1   63         2         2  ...       1        2   \n",
      "1048567          2   23         2         1  ...       2        2   \n",
      "1048569          2   56         2         1  ...       2        2   \n",
      "\n",
      "         HIPERTENSION  OTHER_DISEASE  CARDIOVASCULAR  OBESITY  RENAL_CHRONIC  \\\n",
      "5                   2              2               2        2              2   \n",
      "8                   1              2               2        1              2   \n",
      "9                   2              2               2        2              2   \n",
      "16                  1              2               2        2              2   \n",
      "56                  1              2               1        1              2   \n",
      "...               ...            ...             ...      ...            ...   \n",
      "1048535             1              2               2        2              2   \n",
      "1048553             1              2               2        2              2   \n",
      "1048554             2              2               2        1              2   \n",
      "1048567             2              2               2        1              2   \n",
      "1048569             2              2               2        2              2   \n",
      "\n",
      "         TOBACCO  CLASIFFICATION_FINAL  ICU  \n",
      "5              2                     3    2  \n",
      "8              2                     3    2  \n",
      "9              2                     3    2  \n",
      "16             2                     3    1  \n",
      "56             2                     7    1  \n",
      "...          ...                   ...  ...  \n",
      "1048535        2                     7    2  \n",
      "1048553        2                     7    2  \n",
      "1048554        2                     7    2  \n",
      "1048567        2                     7    2  \n",
      "1048569        2                     7    2  \n",
      "\n",
      "[76841 rows x 21 columns]\n"
     ]
    }
   ],
   "source": [
    "dfN=pd.concat([df.loc[:,[\"USMER\",\"MEDICAL_UNIT\",\"SEX\",\"PATIENT_TYPE\",\"DATE_DIED\",\"INTUBED\",\"PNEUMONIA\",\"AGE\",\"PREGNANT\",\"DIABETES\",\"COPD\",\"ASTHMA\",\"INMSUPR\",\"HIPERTENSION\",\"OTHER_DISEASE\",\"CARDIOVASCULAR\",\"OBESITY\",\"RENAL_CHRONIC\",\"TOBACCO\",\"CLASIFFICATION_FINAL\",\"ICU\"]]],axis=1)\n",
    "print(dfN)"
   ]
  },
  {
   "cell_type": "code",
   "execution_count": 163,
   "id": "d68aeca0",
   "metadata": {},
   "outputs": [],
   "source": [
    "dfN.to_csv(\"covid_data.csv\",sep=\";\")"
   ]
  },
  {
   "cell_type": "markdown",
   "id": "79f4ae13",
   "metadata": {},
   "source": [
    "---"
   ]
  },
  {
   "cell_type": "code",
   "execution_count": 167,
   "id": "db4055ef",
   "metadata": {},
   "outputs": [
    {
     "name": "stdout",
     "output_type": "stream",
     "text": [
      "    USMER  MEDICAL_UNIT  SEX  PATIENT_TYPE  DATE_DIED  INTUBED  PNEUMONIA  \\\n",
      "5       2             1    1             2          1        2          1   \n",
      "8       2             1    1             2          1        2          2   \n",
      "9       2             1    1             2          1        2          2   \n",
      "16      2             1    1             2          1        2          1   \n",
      "56      2             1    1             2          1        1          1   \n",
      "\n",
      "    AGE  PREGNANT  DIABETES  ...  ASTHMA  INMSUPR  HIPERTENSION  \\\n",
      "5    40         2         2  ...       2        2             2   \n",
      "8    37         2         1  ...       2        2             1   \n",
      "9    25         2         2  ...       2        2             2   \n",
      "16   80         2         2  ...       2        2             1   \n",
      "56   58         2         2  ...       2        2             1   \n",
      "\n",
      "    OTHER_DISEASE  CARDIOVASCULAR  OBESITY  RENAL_CHRONIC  TOBACCO  \\\n",
      "5               2               2        2              2        2   \n",
      "8               2               2        1              2        2   \n",
      "9               2               2        2              2        2   \n",
      "16              2               2        2              2        2   \n",
      "56              2               1        1              2        2   \n",
      "\n",
      "    CLASIFFICATION_FINAL  ICU  \n",
      "5                      3    2  \n",
      "8                      3    2  \n",
      "9                      3    2  \n",
      "16                     3    1  \n",
      "56                     7    1  \n",
      "\n",
      "[5 rows x 21 columns]\n",
      "         USMER  MEDICAL_UNIT  SEX  PATIENT_TYPE  DATE_DIED  INTUBED  \\\n",
      "1048535      1            13    1             2          1        2   \n",
      "1048553      2            13    1             2          1        2   \n",
      "1048554      2            13    1             2          1        2   \n",
      "1048567      1            13    1             2          1        2   \n",
      "1048569      1            13    1             2          1        2   \n",
      "\n",
      "         PNEUMONIA  AGE  PREGNANT  DIABETES  ...  ASTHMA  INMSUPR  \\\n",
      "1048535          2   79         2         2  ...       2        2   \n",
      "1048553          1   61         2         1  ...       2        2   \n",
      "1048554          1   63         2         2  ...       1        2   \n",
      "1048567          2   23         2         1  ...       2        2   \n",
      "1048569          2   56         2         1  ...       2        2   \n",
      "\n",
      "         HIPERTENSION  OTHER_DISEASE  CARDIOVASCULAR  OBESITY  RENAL_CHRONIC  \\\n",
      "1048535             1              2               2        2              2   \n",
      "1048553             1              2               2        2              2   \n",
      "1048554             2              2               2        1              2   \n",
      "1048567             2              2               2        1              2   \n",
      "1048569             2              2               2        2              2   \n",
      "\n",
      "         TOBACCO  CLASIFFICATION_FINAL  ICU  \n",
      "1048535        2                     7    2  \n",
      "1048553        2                     7    2  \n",
      "1048554        2                     7    2  \n",
      "1048567        2                     7    2  \n",
      "1048569        2                     7    2  \n",
      "\n",
      "[5 rows x 21 columns]\n"
     ]
    }
   ],
   "source": [
    "import pandas as pd\n",
    "import numpy as np\n",
    "import matplotlib.pyplot as plt\n",
    "from sklearn.linear_model import LinearRegression\n",
    "\n",
    "\n",
    "\n",
    "print(dfN.head())\n",
    "print(dfN.tail())"
   ]
  },
  {
   "cell_type": "code",
   "execution_count": 8,
   "id": "826763cf",
   "metadata": {},
   "outputs": [],
   "source": [
    "import pandas as pd\n",
    "import numpy as np\n",
    "import matplotlib.pyplot as plt \n",
    "from sklearn.linear_model import LinearRegression"
   ]
  },
  {
   "cell_type": "code",
   "execution_count": 64,
   "id": "4867d565",
   "metadata": {},
   "outputs": [
    {
     "name": "stdout",
     "output_type": "stream",
     "text": [
      "   Unnamed: 0  USMER  MEDICAL_UNIT  SEX  PATIENT_TYPE  DATE_DIED  INTUBED  \\\n",
      "0           5      2             1    1             2          1        2   \n",
      "1           8      2             1    1             2          1        2   \n",
      "2           9      2             1    1             2          1        2   \n",
      "3          16      2             1    1             2          1        2   \n",
      "4          56      2             1    1             2          1        1   \n",
      "\n",
      "   PNEUMONIA  AGE  PREGNANT  ...  ASTHMA  INMSUPR  HIPERTENSION  \\\n",
      "0          1   40         2  ...       2        2             2   \n",
      "1          2   37         2  ...       2        2             1   \n",
      "2          2   25         2  ...       2        2             2   \n",
      "3          1   80         2  ...       2        2             1   \n",
      "4          1   58         2  ...       2        2             1   \n",
      "\n",
      "   OTHER_DISEASE  CARDIOVASCULAR  OBESITY  RENAL_CHRONIC  TOBACCO  \\\n",
      "0              2               2        2              2        2   \n",
      "1              2               2        1              2        2   \n",
      "2              2               2        2              2        2   \n",
      "3              2               2        2              2        2   \n",
      "4              2               1        1              2        2   \n",
      "\n",
      "   CLASIFFICATION_FINAL  ICU  \n",
      "0                     3    2  \n",
      "1                     3    2  \n",
      "2                     3    2  \n",
      "3                     3    1  \n",
      "4                     7    1  \n",
      "\n",
      "[5 rows x 22 columns]\n",
      "       Unnamed: 0  USMER  MEDICAL_UNIT  SEX  PATIENT_TYPE  DATE_DIED  INTUBED  \\\n",
      "76836     1048535      1            13    1             2          1        2   \n",
      "76837     1048553      2            13    1             2          1        2   \n",
      "76838     1048554      2            13    1             2          1        2   \n",
      "76839     1048567      1            13    1             2          1        2   \n",
      "76840     1048569      1            13    1             2          1        2   \n",
      "\n",
      "       PNEUMONIA  AGE  PREGNANT  ...  ASTHMA  INMSUPR  HIPERTENSION  \\\n",
      "76836          2   79         2  ...       2        2             1   \n",
      "76837          1   61         2  ...       2        2             1   \n",
      "76838          1   63         2  ...       1        2             2   \n",
      "76839          2   23         2  ...       2        2             2   \n",
      "76840          2   56         2  ...       2        2             2   \n",
      "\n",
      "       OTHER_DISEASE  CARDIOVASCULAR  OBESITY  RENAL_CHRONIC  TOBACCO  \\\n",
      "76836              2               2        2              2        2   \n",
      "76837              2               2        2              2        2   \n",
      "76838              2               2        1              2        2   \n",
      "76839              2               2        1              2        2   \n",
      "76840              2               2        2              2        2   \n",
      "\n",
      "       CLASIFFICATION_FINAL  ICU  \n",
      "76836                     7    2  \n",
      "76837                     7    2  \n",
      "76838                     7    2  \n",
      "76839                     7    2  \n",
      "76840                     7    2  \n",
      "\n",
      "[5 rows x 22 columns]\n"
     ]
    }
   ],
   "source": [
    "dfN=pd.read_csv(\"covid_data.csv\",sep=\";\")\n",
    "print(dfN.head())\n",
    "print(dfN.tail())"
   ]
  },
  {
   "cell_type": "code",
   "execution_count": 58,
   "id": "5a5dd926",
   "metadata": {},
   "outputs": [],
   "source": [
    "# x = dfN.drop(\"DATE_DIED\", axis=1)\n",
    "# y = dfN[\"DATE_DIED\"]\n",
    "#çalışmadı?"
   ]
  },
  {
   "cell_type": "code",
   "execution_count": 67,
   "id": "fc08d818",
   "metadata": {},
   "outputs": [
    {
     "name": "stdout",
     "output_type": "stream",
     "text": [
      "9\n"
     ]
    }
   ],
   "source": [
    "features = ['SEX', 'INTUBED', 'PNEUMONIA', 'AGE', 'PREGNANT', 'ASTHMA', 'INMSUPR', 'TOBACCO' , 'ICU']\n",
    "arget = 'DATE_DIED'\n",
    "\n",
    "print(len(features))\n",
    "\n",
    "x = dfN[features].values\n",
    "y = dfN[target].values"
   ]
  },
  {
   "cell_type": "code",
   "execution_count": 68,
   "id": "d4b1580e",
   "metadata": {},
   "outputs": [
    {
     "name": "stdout",
     "output_type": "stream",
     "text": [
      "1.7741357448227473\n",
      "[ 0.         -0.50081256 -0.10051785  0.00584119  0.04670136  0.0407661\n",
      " -0.03172554  0.0331939   0.063565  ]\n"
     ]
    }
   ],
   "source": [
    "mlr=LinearRegression()\n",
    "mlr.fit(x,y)\n",
    "\n",
    "print(mlr.intercept_)\n",
    "print(mlr.coef_)"
   ]
  },
  {
   "cell_type": "code",
   "execution_count": 72,
   "id": "2930e142",
   "metadata": {},
   "outputs": [],
   "source": [
    "y_pred_mlr=mlr.predict([[110,22,44,5,6,88,11,20,70]])"
   ]
  },
  {
   "cell_type": "code",
   "execution_count": 73,
   "id": "90ab8d03",
   "metadata": {},
   "outputs": [
    {
     "name": "stdout",
     "output_type": "stream",
     "text": [
      "[-5.00524777]\n"
     ]
    }
   ],
   "source": [
    "print(y_pred_mlr)"
   ]
  },
  {
   "cell_type": "code",
   "execution_count": null,
   "id": "87f3dc39",
   "metadata": {},
   "outputs": [],
   "source": []
  },
  {
   "cell_type": "code",
   "execution_count": 74,
   "id": "47a73438",
   "metadata": {},
   "outputs": [],
   "source": [
    "from sklearn.metrics import r2_score,mean_absolute_error,mean_absolute_percentage_error,mean_squared_error"
   ]
  },
  {
   "cell_type": "code",
   "execution_count": 75,
   "id": "80b38a53",
   "metadata": {},
   "outputs": [
    {
     "name": "stdout",
     "output_type": "stream",
     "text": [
      "r2 0.26652021823755423\n",
      "mae 0.3216256023039943\n",
      "mape 0.24309383128216466\n",
      "mse 0.1570336486168411\n",
      "rmse 0.39627471357234123\n"
     ]
    }
   ],
   "source": [
    "mlr_pred=mlr.predict(x)\n",
    "\n",
    "print(\"r2\",r2_score(y,mlr_pred))\n",
    "print(\"mae\",mean_absolute_error(y,mlr_pred))\n",
    "print(\"mape\",mean_absolute_percentage_error(y,mlr_pred))\n",
    "print(\"mse\",mean_squared_error(y,mlr_pred))\n",
    "print(\"rmse\",(mean_squared_error(y,mlr_pred)**0.5))"
   ]
  },
  {
   "cell_type": "code",
   "execution_count": 76,
   "id": "0451c0cb",
   "metadata": {},
   "outputs": [],
   "source": [
    "from sklearn.tree import DecisionTreeRegressor"
   ]
  },
  {
   "cell_type": "code",
   "execution_count": 77,
   "id": "9c2cc0b4",
   "metadata": {},
   "outputs": [
    {
     "name": "stdout",
     "output_type": "stream",
     "text": [
      "0.3029977978425459\n"
     ]
    }
   ],
   "source": [
    "tree_reg=DecisionTreeRegressor()\n",
    "tree_reg.fit(x,y)\n",
    "tree_pred=tree_reg.predict(x)\n",
    "print(r2_score(y,tree_pred))"
   ]
  },
  {
   "cell_type": "code",
   "execution_count": 78,
   "id": "bb3cc621",
   "metadata": {},
   "outputs": [
    {
     "data": {
      "text/plain": [
       "RandomForestRegressor(random_state=42)"
      ]
     },
     "execution_count": 78,
     "metadata": {},
     "output_type": "execute_result"
    }
   ],
   "source": [
    "from sklearn.ensemble import RandomForestRegressor\n",
    "rf=RandomForestRegressor(n_estimators=100,random_state=42)\n",
    "rf.fit(x,y.ravel())"
   ]
  },
  {
   "cell_type": "code",
   "execution_count": 80,
   "id": "f1826501",
   "metadata": {},
   "outputs": [
    {
     "name": "stdout",
     "output_type": "stream",
     "text": [
      "0.30125950319728634\n"
     ]
    }
   ],
   "source": [
    "rf_pred=rf.predict(x)\n",
    "print(r2_score(y,rf_pred))"
   ]
  },
  {
   "cell_type": "code",
   "execution_count": 82,
   "id": "3422ef44",
   "metadata": {},
   "outputs": [],
   "source": [
    "mlr=LinearRegression()\n",
    "mlr.fit(x,y)\n",
    "mlr_pred=mlr.predict(x)\n",
    "\n",
    "dt=DecisionTreeRegressor()\n",
    "dt.fit(x,y)\n",
    "dt_pred=dt.predict(x)\n",
    "\n",
    "rf=RandomForestRegressor(n_estimators=100,random_state=42)\n",
    "rf.fit(x,y.ravel())\n",
    "rf_pred=rf.predict(x)"
   ]
  },
  {
   "cell_type": "code",
   "execution_count": 83,
   "id": "8c6e88e4",
   "metadata": {},
   "outputs": [
    {
     "name": "stdout",
     "output_type": "stream",
     "text": [
      "mlr 0.26652021823755423 0.3216256023039943\n",
      "dt 0.3029977978425459 0.29844803257087427\n",
      "rf 0.30125950319728634 0.3002352457868053\n"
     ]
    }
   ],
   "source": [
    "print(\"mlr\",r2_score(y,mlr_pred),mean_absolute_error(y,mlr_pred))\n",
    "print(\"dt\",r2_score(y,dt_pred),mean_absolute_error(y,dt_pred))\n",
    "print(\"rf\",r2_score(y,rf_pred),mean_absolute_error(y,rf_pred))"
   ]
  },
  {
   "cell_type": "code",
   "execution_count": 84,
   "id": "0aa989eb",
   "metadata": {},
   "outputs": [
    {
     "name": "stdout",
     "output_type": "stream",
     "text": [
      "mlr 0.26652021823755423 0.3216256023039943\n",
      "dt 0.3029977978425459 0.29844803257087427\n",
      "rf 0.30125950319728634 0.3002352457868053\n"
     ]
    }
   ],
   "source": [
    "print(\"mlr\",r2_score(y,mlr_pred),mean_absolute_error(y,mlr_pred))\n",
    "print(\"dt\",r2_score(y,dt_pred),mean_absolute_error(y,dt_pred))\n",
    "print(\"rf\",r2_score(y,rf_pred),mean_absolute_error(y,rf_pred))"
   ]
  },
  {
   "cell_type": "code",
   "execution_count": 85,
   "id": "e37bce27",
   "metadata": {},
   "outputs": [],
   "source": [
    "from sklearn.model_selection import train_test_split\n",
    "x_train,x_test,y_train,y_test=train_test_split(x,y,test_size=0.1,random_state=42)"
   ]
  },
  {
   "cell_type": "code",
   "execution_count": 86,
   "id": "9d1abcbf",
   "metadata": {},
   "outputs": [],
   "source": [
    "mlr=LinearRegression()\n",
    "mlr.fit(x_train,y_train)\n",
    "mlr_pred=mlr.predict(x_test)\n",
    "\n",
    "dt=DecisionTreeRegressor()\n",
    "dt.fit(x_train,y_train)\n",
    "dt_pred=dt.predict(x_test)\n",
    "\n",
    "rf=RandomForestRegressor(n_estimators=100,random_state=42)\n",
    "rf.fit(x_train,y_train.ravel())\n",
    "rf_pred=rf.predict(x_test)"
   ]
  },
  {
   "cell_type": "code",
   "execution_count": 88,
   "id": "34023197",
   "metadata": {},
   "outputs": [
    {
     "name": "stdout",
     "output_type": "stream",
     "text": [
      "mlr 0.2687168249705719 0.32233078728890124\n",
      "dt 0.24895226508635215 0.3107745644337145\n",
      "rf 0.25979294671856035 0.3107229272766707\n"
     ]
    }
   ],
   "source": [
    "print(\"mlr\",r2_score(y_test,mlr_pred),mean_absolute_error(y_test,mlr_pred))\n",
    "print(\"dt\",r2_score(y_test,dt_pred),mean_absolute_error(y_test,dt_pred))\n",
    "print(\"rf\",r2_score(y_test,rf_pred),mean_absolute_error(y_test,rf_pred))"
   ]
  },
  {
   "cell_type": "code",
   "execution_count": null,
   "id": "eb5bae0c",
   "metadata": {},
   "outputs": [],
   "source": []
  },
  {
   "cell_type": "code",
   "execution_count": null,
   "id": "ca4c60ab",
   "metadata": {},
   "outputs": [],
   "source": []
  }
 ],
 "metadata": {
  "kernelspec": {
   "display_name": "Python 3 (ipykernel)",
   "language": "python",
   "name": "python3"
  },
  "language_info": {
   "codemirror_mode": {
    "name": "ipython",
    "version": 3
   },
   "file_extension": ".py",
   "mimetype": "text/x-python",
   "name": "python",
   "nbconvert_exporter": "python",
   "pygments_lexer": "ipython3",
   "version": "3.9.13"
  }
 },
 "nbformat": 4,
 "nbformat_minor": 5
}
