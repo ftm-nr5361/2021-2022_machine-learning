{
 "cells": [
  {
   "cell_type": "code",
   "execution_count": 1,
   "id": "a46aa6a2",
   "metadata": {},
   "outputs": [],
   "source": [
    "import pandas as pd\n",
    "import numpy as np"
   ]
  },
  {
   "cell_type": "code",
   "execution_count": 2,
   "id": "97f8e181",
   "metadata": {},
   "outputs": [
    {
     "name": "stdout",
     "output_type": "stream",
     "text": [
      "   USMER  MEDICAL_UNIT  SEX  PATIENT_TYPE   DATE_DIED  INTUBED  PNEUMONIA  \\\n",
      "0      2             1    1             1  03/05/2020       97          1   \n",
      "1      2             1    2             1  03/06/2020       97          1   \n",
      "2      2             1    2             2  09/06/2020        1          2   \n",
      "3      2             1    1             1  12/06/2020       97          2   \n",
      "4      2             1    2             1  21/06/2020       97          2   \n",
      "\n",
      "   AGE  PREGNANT  DIABETES  ...  ASTHMA  INMSUPR  HIPERTENSION  OTHER_DISEASE  \\\n",
      "0   65         2         2  ...       2        2             1              2   \n",
      "1   72        97         2  ...       2        2             1              2   \n",
      "2   55        97         1  ...       2        2             2              2   \n",
      "3   53         2         2  ...       2        2             2              2   \n",
      "4   68        97         1  ...       2        2             1              2   \n",
      "\n",
      "   CARDIOVASCULAR  OBESITY  RENAL_CHRONIC  TOBACCO  CLASIFFICATION_FINAL  ICU  \n",
      "0               2        2              2        2                     3   97  \n",
      "1               2        1              1        2                     5   97  \n",
      "2               2        2              2        2                     3    2  \n",
      "3               2        2              2        2                     7   97  \n",
      "4               2        2              2        2                     3   97  \n",
      "\n",
      "[5 rows x 21 columns]\n"
     ]
    }
   ],
   "source": [
    "df=pd.read_csv(\"CovidData.csv\",sep=\",\")\n",
    "print(df.head())"
   ]
  },
  {
   "cell_type": "code",
   "execution_count": 3,
   "id": "f2f66621",
   "metadata": {},
   "outputs": [
    {
     "name": "stdout",
     "output_type": "stream",
     "text": [
      "<class 'pandas.core.frame.DataFrame'>\n",
      "RangeIndex: 1048575 entries, 0 to 1048574\n",
      "Data columns (total 21 columns):\n",
      " #   Column                Non-Null Count    Dtype \n",
      "---  ------                --------------    ----- \n",
      " 0   USMER                 1048575 non-null  int64 \n",
      " 1   MEDICAL_UNIT          1048575 non-null  int64 \n",
      " 2   SEX                   1048575 non-null  int64 \n",
      " 3   PATIENT_TYPE          1048575 non-null  int64 \n",
      " 4   DATE_DIED             1048575 non-null  object\n",
      " 5   INTUBED               1048575 non-null  int64 \n",
      " 6   PNEUMONIA             1048575 non-null  int64 \n",
      " 7   AGE                   1048575 non-null  int64 \n",
      " 8   PREGNANT              1048575 non-null  int64 \n",
      " 9   DIABETES              1048575 non-null  int64 \n",
      " 10  COPD                  1048575 non-null  int64 \n",
      " 11  ASTHMA                1048575 non-null  int64 \n",
      " 12  INMSUPR               1048575 non-null  int64 \n",
      " 13  HIPERTENSION          1048575 non-null  int64 \n",
      " 14  OTHER_DISEASE         1048575 non-null  int64 \n",
      " 15  CARDIOVASCULAR        1048575 non-null  int64 \n",
      " 16  OBESITY               1048575 non-null  int64 \n",
      " 17  RENAL_CHRONIC         1048575 non-null  int64 \n",
      " 18  TOBACCO               1048575 non-null  int64 \n",
      " 19  CLASIFFICATION_FINAL  1048575 non-null  int64 \n",
      " 20  ICU                   1048575 non-null  int64 \n",
      "dtypes: int64(20), object(1)\n",
      "memory usage: 168.0+ MB\n",
      "None\n"
     ]
    }
   ],
   "source": [
    "print(df.info())"
   ]
  },
  {
   "cell_type": "code",
   "execution_count": 4,
   "id": "4ee8e1cd",
   "metadata": {},
   "outputs": [
    {
     "name": "stdout",
     "output_type": "stream",
     "text": [
      "USMER                    int64\n",
      "MEDICAL_UNIT             int64\n",
      "SEX                      int64\n",
      "PATIENT_TYPE             int64\n",
      "DATE_DIED               object\n",
      "INTUBED                  int64\n",
      "PNEUMONIA                int64\n",
      "AGE                      int64\n",
      "PREGNANT                 int64\n",
      "DIABETES                 int64\n",
      "COPD                     int64\n",
      "ASTHMA                   int64\n",
      "INMSUPR                  int64\n",
      "HIPERTENSION             int64\n",
      "OTHER_DISEASE            int64\n",
      "CARDIOVASCULAR           int64\n",
      "OBESITY                  int64\n",
      "RENAL_CHRONIC            int64\n",
      "TOBACCO                  int64\n",
      "CLASIFFICATION_FINAL     int64\n",
      "ICU                      int64\n",
      "dtype: object\n"
     ]
    }
   ],
   "source": [
    "print(df.dtypes)"
   ]
  },
  {
   "cell_type": "code",
   "execution_count": 5,
   "id": "c49a7d06",
   "metadata": {},
   "outputs": [
    {
     "name": "stdout",
     "output_type": "stream",
     "text": [
      "              USMER  MEDICAL_UNIT           SEX  PATIENT_TYPE       INTUBED  \\\n",
      "count  1.048575e+06  1.048575e+06  1.048575e+06  1.048575e+06  1.048575e+06   \n",
      "mean   1.632194e+00  8.980565e+00  1.499259e+00  1.190765e+00  7.952288e+01   \n",
      "std    4.822084e-01  3.723278e+00  4.999997e-01  3.929041e-01  3.686889e+01   \n",
      "min    1.000000e+00  1.000000e+00  1.000000e+00  1.000000e+00  1.000000e+00   \n",
      "25%    1.000000e+00  4.000000e+00  1.000000e+00  1.000000e+00  9.700000e+01   \n",
      "50%    2.000000e+00  1.200000e+01  1.000000e+00  1.000000e+00  9.700000e+01   \n",
      "75%    2.000000e+00  1.200000e+01  2.000000e+00  1.000000e+00  9.700000e+01   \n",
      "max    2.000000e+00  1.300000e+01  2.000000e+00  2.000000e+00  9.900000e+01   \n",
      "\n",
      "          PNEUMONIA           AGE      PREGNANT      DIABETES          COPD  \\\n",
      "count  1.048575e+06  1.048575e+06  1.048575e+06  1.048575e+06  1.048575e+06   \n",
      "mean   3.346831e+00  4.179410e+01  4.976558e+01  2.186404e+00  2.260569e+00   \n",
      "std    1.191288e+01  1.690739e+01  4.751073e+01  5.424242e+00  5.132258e+00   \n",
      "min    1.000000e+00  0.000000e+00  1.000000e+00  1.000000e+00  1.000000e+00   \n",
      "25%    2.000000e+00  3.000000e+01  2.000000e+00  2.000000e+00  2.000000e+00   \n",
      "50%    2.000000e+00  4.000000e+01  9.700000e+01  2.000000e+00  2.000000e+00   \n",
      "75%    2.000000e+00  5.300000e+01  9.700000e+01  2.000000e+00  2.000000e+00   \n",
      "max    9.900000e+01  1.210000e+02  9.800000e+01  9.800000e+01  9.800000e+01   \n",
      "\n",
      "             ASTHMA       INMSUPR  HIPERTENSION  OTHER_DISEASE  \\\n",
      "count  1.048575e+06  1.048575e+06  1.048575e+06   1.048575e+06   \n",
      "mean   2.242626e+00  2.298132e+00  2.128989e+00   2.435143e+00   \n",
      "std    5.114089e+00  5.462843e+00  5.236397e+00   6.646676e+00   \n",
      "min    1.000000e+00  1.000000e+00  1.000000e+00   1.000000e+00   \n",
      "25%    2.000000e+00  2.000000e+00  2.000000e+00   2.000000e+00   \n",
      "50%    2.000000e+00  2.000000e+00  2.000000e+00   2.000000e+00   \n",
      "75%    2.000000e+00  2.000000e+00  2.000000e+00   2.000000e+00   \n",
      "max    9.800000e+01  9.800000e+01  9.800000e+01   9.800000e+01   \n",
      "\n",
      "       CARDIOVASCULAR       OBESITY  RENAL_CHRONIC       TOBACCO  \\\n",
      "count    1.048575e+06  1.048575e+06   1.048575e+06  1.048575e+06   \n",
      "mean     2.261810e+00  2.125176e+00   2.257180e+00  2.214333e+00   \n",
      "std      5.194850e+00  5.175445e+00   5.135354e+00  5.323097e+00   \n",
      "min      1.000000e+00  1.000000e+00   1.000000e+00  1.000000e+00   \n",
      "25%      2.000000e+00  2.000000e+00   2.000000e+00  2.000000e+00   \n",
      "50%      2.000000e+00  2.000000e+00   2.000000e+00  2.000000e+00   \n",
      "75%      2.000000e+00  2.000000e+00   2.000000e+00  2.000000e+00   \n",
      "max      9.800000e+01  9.800000e+01   9.800000e+01  9.800000e+01   \n",
      "\n",
      "       CLASIFFICATION_FINAL           ICU  \n",
      "count          1.048575e+06  1.048575e+06  \n",
      "mean           5.305653e+00  7.955397e+01  \n",
      "std            1.881165e+00  3.682307e+01  \n",
      "min            1.000000e+00  1.000000e+00  \n",
      "25%            3.000000e+00  9.700000e+01  \n",
      "50%            6.000000e+00  9.700000e+01  \n",
      "75%            7.000000e+00  9.700000e+01  \n",
      "max            7.000000e+00  9.900000e+01  \n"
     ]
    }
   ],
   "source": [
    "print(df.describe())"
   ]
  },
  {
   "cell_type": "code",
   "execution_count": 7,
   "id": "caa1e66a",
   "metadata": {},
   "outputs": [
    {
     "name": "stdout",
     "output_type": "stream",
     "text": [
      "         USMER  MEDICAL_UNIT  SEX  PATIENT_TYPE   DATE_DIED  INTUBED  \\\n",
      "0            2             1    1             1  03/05/2020       97   \n",
      "1            2             1    2             1  03/06/2020       97   \n",
      "2            2             1    2             2  09/06/2020        1   \n",
      "3            2             1    1             1  12/06/2020       97   \n",
      "4            2             1    2             1  21/06/2020       97   \n",
      "...        ...           ...  ...           ...         ...      ...   \n",
      "1048570      2            13    2             1  9999-99-99       97   \n",
      "1048571      1            13    2             2  9999-99-99        2   \n",
      "1048572      2            13    2             1  9999-99-99       97   \n",
      "1048573      2            13    2             1  9999-99-99       97   \n",
      "1048574      2            13    2             1  9999-99-99       97   \n",
      "\n",
      "         PNEUMONIA  AGE  PREGNANT  DIABETES  ...  ASTHMA  INMSUPR  \\\n",
      "0                1   65         2         2  ...       2        2   \n",
      "1                1   72        97         2  ...       2        2   \n",
      "2                2   55        97         1  ...       2        2   \n",
      "3                2   53         2         2  ...       2        2   \n",
      "4                2   68        97         1  ...       2        2   \n",
      "...            ...  ...       ...       ...  ...     ...      ...   \n",
      "1048570          2   40        97         2  ...       2        2   \n",
      "1048571          2   51        97         2  ...       2        2   \n",
      "1048572          2   55        97         2  ...       2        2   \n",
      "1048573          2   28        97         2  ...       2        2   \n",
      "1048574          2   52        97         2  ...       2        2   \n",
      "\n",
      "         HIPERTENSION  OTHER_DISEASE  CARDIOVASCULAR  OBESITY  RENAL_CHRONIC  \\\n",
      "0                   1              2               2        2              2   \n",
      "1                   1              2               2        1              1   \n",
      "2                   2              2               2        2              2   \n",
      "3                   2              2               2        2              2   \n",
      "4                   1              2               2        2              2   \n",
      "...               ...            ...             ...      ...            ...   \n",
      "1048570             2              2               2        2              2   \n",
      "1048571             1              2               2        2              2   \n",
      "1048572             2              2               2        2              2   \n",
      "1048573             2              2               2        2              2   \n",
      "1048574             2              2               2        2              2   \n",
      "\n",
      "         TOBACCO  CLASIFFICATION_FINAL  ICU  \n",
      "0              2                     3   97  \n",
      "1              2                     5   97  \n",
      "2              2                     3    2  \n",
      "3              2                     7   97  \n",
      "4              2                     3   97  \n",
      "...          ...                   ...  ...  \n",
      "1048570        2                     7   97  \n",
      "1048571        2                     7    2  \n",
      "1048572        2                     7   97  \n",
      "1048573        2                     7   97  \n",
      "1048574        2                     7   97  \n",
      "\n",
      "[1048575 rows x 21 columns]\n"
     ]
    }
   ],
   "source": [
    "print(df)"
   ]
  },
  {
   "cell_type": "markdown",
   "id": "a5875645",
   "metadata": {},
   "source": [
    "---\n",
    "\n",
    "In the Boolean features, 1 means \"yes\" and 2 means \"no\". values as 97 and 99 are missing data.\n",
    "\n",
    "sex: female or male\n",
    "\n",
    "age: of the patient.\n",
    "\n",
    "classification: covid test findings. Values 1-3 mean that the patient was diagnosed with covid in different\n",
    "degrees. 4 or higher means that the patient is not a carrier of covid or that the test is inconclusive.\n",
    "\n",
    "patient type: hospitalized or not hospitalized.\n",
    "\n",
    "pneumonia: whether the patient already have air sacs inflammation or not.\n",
    "\n",
    "pregnancy: whether the patient is pregnant or not.\n",
    "\n",
    "diabetes: whether the patient has diabetes or not.\n",
    "\n",
    "copd: Indicates whether the patient has Chronic obstructive pulmonary disease or not.\n",
    "\n",
    "asthma: whether the patient has asthma or not.\n",
    "\n",
    "inmsupr: whether the patient is immunosuppressed or not.\n",
    "\n",
    "hypertension: whether the patient has hypertension or not.\n",
    "\n",
    "cardiovascular: whether the patient has heart or blood vessels related disease.\n",
    "\n",
    "renal chronic: whether the patient has chronic renal disease or not.\n",
    "\n",
    "other disease: whether the patient has other disease or not.\n",
    "\n",
    "obesity: whether the patient is obese or not.\n",
    "\n",
    "tobacco: whether the patient is a tobacco user.\n",
    "\n",
    "usmr: Indicates whether the patient treated medical units of the first, second or third level.\n",
    "\n",
    "medical unit: type of institution of the National Health System that provided the care.\n",
    "\n",
    "intubed: whether the patient was connected to the ventilator.\n",
    "\n",
    "icu: Indicates whether the patient had been admitted to an Intensive Care Unit.\n",
    "\n",
    "death: indicates whether the patient died or recovered.\n",
    "\n",
    "---"
   ]
  },
  {
   "cell_type": "code",
   "execution_count": 8,
   "id": "a847fee3",
   "metadata": {},
   "outputs": [
    {
     "name": "stdout",
     "output_type": "stream",
     "text": [
      "0          2\n",
      "1          2\n",
      "2          2\n",
      "3          2\n",
      "4          2\n",
      "          ..\n",
      "1048570    2\n",
      "1048571    1\n",
      "1048572    2\n",
      "1048573    2\n",
      "1048574    2\n",
      "Name: USMER, Length: 1048575, dtype: int64\n"
     ]
    }
   ],
   "source": [
    "print(df.USMER)"
   ]
  },
  {
   "cell_type": "code",
   "execution_count": 9,
   "id": "02a99d92",
   "metadata": {},
   "outputs": [
    {
     "name": "stdout",
     "output_type": "stream",
     "text": [
      "0          False\n",
      "1          False\n",
      "2          False\n",
      "3          False\n",
      "4          False\n",
      "           ...  \n",
      "1048570    False\n",
      "1048571    False\n",
      "1048572    False\n",
      "1048573    False\n",
      "1048574    False\n",
      "Name: USMER, Length: 1048575, dtype: bool\n"
     ]
    }
   ],
   "source": [
    "print(df.USMER.isnull())"
   ]
  },
  {
   "cell_type": "code",
   "execution_count": 11,
   "id": "01c3bd1f",
   "metadata": {},
   "outputs": [
    {
     "name": "stdout",
     "output_type": "stream",
     "text": [
      "0           1\n",
      "1           1\n",
      "2           1\n",
      "3           1\n",
      "4           1\n",
      "           ..\n",
      "1048570    13\n",
      "1048571    13\n",
      "1048572    13\n",
      "1048573    13\n",
      "1048574    13\n",
      "Name: MEDICAL_UNIT, Length: 1048575, dtype: int64\n",
      "0          False\n",
      "1          False\n",
      "2          False\n",
      "3          False\n",
      "4          False\n",
      "           ...  \n",
      "1048570    False\n",
      "1048571    False\n",
      "1048572    False\n",
      "1048573    False\n",
      "1048574    False\n",
      "Name: MEDICAL_UNIT, Length: 1048575, dtype: bool\n"
     ]
    }
   ],
   "source": [
    "print(df.MEDICAL_UNIT)\n",
    "print(df.MEDICAL_UNIT.isnull())"
   ]
  },
  {
   "cell_type": "code",
   "execution_count": 13,
   "id": "4ef354e6",
   "metadata": {},
   "outputs": [
    {
     "name": "stdout",
     "output_type": "stream",
     "text": [
      "0          1\n",
      "1          2\n",
      "2          2\n",
      "3          1\n",
      "4          2\n",
      "          ..\n",
      "1048570    2\n",
      "1048571    2\n",
      "1048572    2\n",
      "1048573    2\n",
      "1048574    2\n",
      "Name: SEX, Length: 1048575, dtype: int64\n",
      "0          False\n",
      "1          False\n",
      "2          False\n",
      "3          False\n",
      "4          False\n",
      "           ...  \n",
      "1048570    False\n",
      "1048571    False\n",
      "1048572    False\n",
      "1048573    False\n",
      "1048574    False\n",
      "Name: SEX, Length: 1048575, dtype: bool\n"
     ]
    }
   ],
   "source": [
    "print(df.SEX)\n",
    "print(df.SEX.isnull())"
   ]
  },
  {
   "cell_type": "code",
   "execution_count": 15,
   "id": "6ab74247",
   "metadata": {},
   "outputs": [
    {
     "name": "stdout",
     "output_type": "stream",
     "text": [
      "count    1.048575e+06\n",
      "mean     1.499259e+00\n",
      "std      4.999997e-01\n",
      "min      1.000000e+00\n",
      "25%      1.000000e+00\n",
      "50%      1.000000e+00\n",
      "75%      2.000000e+00\n",
      "max      2.000000e+00\n",
      "Name: SEX, dtype: float64\n"
     ]
    }
   ],
   "source": [
    "print(df.SEX.describe())"
   ]
  },
  {
   "cell_type": "code",
   "execution_count": 18,
   "id": "302a9471",
   "metadata": {},
   "outputs": [
    {
     "name": "stdout",
     "output_type": "stream",
     "text": [
      "0          1\n",
      "1          1\n",
      "2          2\n",
      "3          1\n",
      "4          1\n",
      "          ..\n",
      "1048570    1\n",
      "1048571    2\n",
      "1048572    1\n",
      "1048573    1\n",
      "1048574    1\n",
      "Name: PATIENT_TYPE, Length: 1048575, dtype: int64\n",
      "0          False\n",
      "1          False\n",
      "2          False\n",
      "3          False\n",
      "4          False\n",
      "           ...  \n",
      "1048570    False\n",
      "1048571    False\n",
      "1048572    False\n",
      "1048573    False\n",
      "1048574    False\n",
      "Name: PATIENT_TYPE, Length: 1048575, dtype: bool\n",
      "count    1.048575e+06\n",
      "mean     1.190765e+00\n",
      "std      3.929041e-01\n",
      "min      1.000000e+00\n",
      "25%      1.000000e+00\n",
      "50%      1.000000e+00\n",
      "75%      1.000000e+00\n",
      "max      2.000000e+00\n",
      "Name: PATIENT_TYPE, dtype: float64\n"
     ]
    }
   ],
   "source": [
    "print(df.PATIENT_TYPE)\n",
    "print(df.PATIENT_TYPE.isnull())\n",
    "print(df.PATIENT_TYPE.describe())"
   ]
  },
  {
   "cell_type": "code",
   "execution_count": 19,
   "id": "afd2ed99",
   "metadata": {},
   "outputs": [
    {
     "name": "stdout",
     "output_type": "stream",
     "text": [
      "0          03/05/2020\n",
      "1          03/06/2020\n",
      "2          09/06/2020\n",
      "3          12/06/2020\n",
      "4          21/06/2020\n",
      "              ...    \n",
      "1048570    9999-99-99\n",
      "1048571    9999-99-99\n",
      "1048572    9999-99-99\n",
      "1048573    9999-99-99\n",
      "1048574    9999-99-99\n",
      "Name: DATE_DIED, Length: 1048575, dtype: object\n",
      "0          False\n",
      "1          False\n",
      "2          False\n",
      "3          False\n",
      "4          False\n",
      "           ...  \n",
      "1048570    False\n",
      "1048571    False\n",
      "1048572    False\n",
      "1048573    False\n",
      "1048574    False\n",
      "Name: DATE_DIED, Length: 1048575, dtype: bool\n",
      "count        1048575\n",
      "unique           401\n",
      "top       9999-99-99\n",
      "freq          971633\n",
      "Name: DATE_DIED, dtype: object\n"
     ]
    }
   ],
   "source": [
    "print(df.DATE_DIED)\n",
    "print(df.DATE_DIED.isnull())\n",
    "print(df.DATE_DIED.describe())"
   ]
  },
  {
   "cell_type": "code",
   "execution_count": 21,
   "id": "0a83dc0b",
   "metadata": {},
   "outputs": [
    {
     "name": "stdout",
     "output_type": "stream",
     "text": [
      "0          97\n",
      "1          97\n",
      "2           1\n",
      "3          97\n",
      "4          97\n",
      "           ..\n",
      "1048570    97\n",
      "1048571     2\n",
      "1048572    97\n",
      "1048573    97\n",
      "1048574    97\n",
      "Name: INTUBED, Length: 1048575, dtype: int64\n",
      "0          False\n",
      "1          False\n",
      "2          False\n",
      "3          False\n",
      "4          False\n",
      "           ...  \n",
      "1048570    False\n",
      "1048571    False\n",
      "1048572    False\n",
      "1048573    False\n",
      "1048574    False\n",
      "Name: INTUBED, Length: 1048575, dtype: bool\n",
      "count    1.048575e+06\n",
      "mean     7.952288e+01\n",
      "std      3.686889e+01\n",
      "min      1.000000e+00\n",
      "25%      9.700000e+01\n",
      "50%      9.700000e+01\n",
      "75%      9.700000e+01\n",
      "max      9.900000e+01\n",
      "Name: INTUBED, dtype: float64\n"
     ]
    }
   ],
   "source": [
    "print(df.INTUBED)\n",
    "print(df.INTUBED.isnull()) \n",
    "print(df.INTUBED.describe())"
   ]
  },
  {
   "cell_type": "code",
   "execution_count": 23,
   "id": "717e5749",
   "metadata": {},
   "outputs": [
    {
     "name": "stdout",
     "output_type": "stream",
     "text": [
      "0           2\n",
      "1          97\n",
      "2          97\n",
      "3           2\n",
      "4          97\n",
      "           ..\n",
      "1048570    97\n",
      "1048571    97\n",
      "1048572    97\n",
      "1048573    97\n",
      "1048574    97\n",
      "Name: PREGNANT, Length: 1048575, dtype: int64\n",
      "0          False\n",
      "1          False\n",
      "2          False\n",
      "3          False\n",
      "4          False\n",
      "           ...  \n",
      "1048570    False\n",
      "1048571    False\n",
      "1048572    False\n",
      "1048573    False\n",
      "1048574    False\n",
      "Name: PREGNANT, Length: 1048575, dtype: bool\n",
      "count    1.048575e+06\n",
      "mean     4.976558e+01\n",
      "std      4.751073e+01\n",
      "min      1.000000e+00\n",
      "25%      2.000000e+00\n",
      "50%      9.700000e+01\n",
      "75%      9.700000e+01\n",
      "max      9.800000e+01\n",
      "Name: PREGNANT, dtype: float64\n"
     ]
    }
   ],
   "source": [
    "print(df.PREGNANT)\n",
    "print(df.PREGNANT.isnull())\n",
    "print(df.PREGNANT.describe())"
   ]
  },
  {
   "cell_type": "markdown",
   "id": "9956d26f",
   "metadata": {},
   "source": [
    "- 97 ve 99 değerleri missing value! tarih, entübasyon, hamilelik ve icu'da var"
   ]
  },
  {
   "cell_type": "code",
   "execution_count": 25,
   "id": "adfea746",
   "metadata": {},
   "outputs": [],
   "source": [
    "df.drop(\"DATE_DIED\",inplace=True,axis=1)"
   ]
  },
  {
   "cell_type": "code",
   "execution_count": 26,
   "id": "ec546ca1",
   "metadata": {},
   "outputs": [
    {
     "name": "stdout",
     "output_type": "stream",
     "text": [
      "         USMER  MEDICAL_UNIT  SEX  PATIENT_TYPE  INTUBED  PNEUMONIA  AGE  \\\n",
      "0            2             1    1             1       97          1   65   \n",
      "1            2             1    2             1       97          1   72   \n",
      "2            2             1    2             2        1          2   55   \n",
      "3            2             1    1             1       97          2   53   \n",
      "4            2             1    2             1       97          2   68   \n",
      "...        ...           ...  ...           ...      ...        ...  ...   \n",
      "1048570      2            13    2             1       97          2   40   \n",
      "1048571      1            13    2             2        2          2   51   \n",
      "1048572      2            13    2             1       97          2   55   \n",
      "1048573      2            13    2             1       97          2   28   \n",
      "1048574      2            13    2             1       97          2   52   \n",
      "\n",
      "         PREGNANT  DIABETES  COPD  ASTHMA  INMSUPR  HIPERTENSION  \\\n",
      "0               2         2     2       2        2             1   \n",
      "1              97         2     2       2        2             1   \n",
      "2              97         1     2       2        2             2   \n",
      "3               2         2     2       2        2             2   \n",
      "4              97         1     2       2        2             1   \n",
      "...           ...       ...   ...     ...      ...           ...   \n",
      "1048570        97         2     2       2        2             2   \n",
      "1048571        97         2     2       2        2             1   \n",
      "1048572        97         2     2       2        2             2   \n",
      "1048573        97         2     2       2        2             2   \n",
      "1048574        97         2     2       2        2             2   \n",
      "\n",
      "         OTHER_DISEASE  CARDIOVASCULAR  OBESITY  RENAL_CHRONIC  TOBACCO  \\\n",
      "0                    2               2        2              2        2   \n",
      "1                    2               2        1              1        2   \n",
      "2                    2               2        2              2        2   \n",
      "3                    2               2        2              2        2   \n",
      "4                    2               2        2              2        2   \n",
      "...                ...             ...      ...            ...      ...   \n",
      "1048570              2               2        2              2        2   \n",
      "1048571              2               2        2              2        2   \n",
      "1048572              2               2        2              2        2   \n",
      "1048573              2               2        2              2        2   \n",
      "1048574              2               2        2              2        2   \n",
      "\n",
      "         CLASIFFICATION_FINAL  ICU  \n",
      "0                           3   97  \n",
      "1                           5   97  \n",
      "2                           3    2  \n",
      "3                           7   97  \n",
      "4                           3   97  \n",
      "...                       ...  ...  \n",
      "1048570                     7   97  \n",
      "1048571                     7    2  \n",
      "1048572                     7   97  \n",
      "1048573                     7   97  \n",
      "1048574                     7   97  \n",
      "\n",
      "[1048575 rows x 20 columns]\n"
     ]
    }
   ],
   "source": [
    "print(df)"
   ]
  },
  {
   "cell_type": "code",
   "execution_count": 28,
   "id": "a7113ace",
   "metadata": {},
   "outputs": [],
   "source": [
    "df.drop(\"INTUBED\",inplace=True,axis=1)"
   ]
  },
  {
   "cell_type": "code",
   "execution_count": 30,
   "id": "26a4b83c",
   "metadata": {},
   "outputs": [],
   "source": [
    "df.drop(\"PREGNANT\",inplace=True,axis=1)"
   ]
  },
  {
   "cell_type": "code",
   "execution_count": 31,
   "id": "94d5017d",
   "metadata": {},
   "outputs": [],
   "source": [
    "df.drop(\"ICU\",inplace=True,axis=1)"
   ]
  },
  {
   "cell_type": "code",
   "execution_count": 32,
   "id": "84dfc010",
   "metadata": {},
   "outputs": [
    {
     "name": "stdout",
     "output_type": "stream",
     "text": [
      "         USMER  MEDICAL_UNIT  SEX  PATIENT_TYPE  PNEUMONIA  AGE  DIABETES  \\\n",
      "0            2             1    1             1          1   65         2   \n",
      "1            2             1    2             1          1   72         2   \n",
      "2            2             1    2             2          2   55         1   \n",
      "3            2             1    1             1          2   53         2   \n",
      "4            2             1    2             1          2   68         1   \n",
      "...        ...           ...  ...           ...        ...  ...       ...   \n",
      "1048570      2            13    2             1          2   40         2   \n",
      "1048571      1            13    2             2          2   51         2   \n",
      "1048572      2            13    2             1          2   55         2   \n",
      "1048573      2            13    2             1          2   28         2   \n",
      "1048574      2            13    2             1          2   52         2   \n",
      "\n",
      "         COPD  ASTHMA  INMSUPR  HIPERTENSION  OTHER_DISEASE  CARDIOVASCULAR  \\\n",
      "0           2       2        2             1              2               2   \n",
      "1           2       2        2             1              2               2   \n",
      "2           2       2        2             2              2               2   \n",
      "3           2       2        2             2              2               2   \n",
      "4           2       2        2             1              2               2   \n",
      "...       ...     ...      ...           ...            ...             ...   \n",
      "1048570     2       2        2             2              2               2   \n",
      "1048571     2       2        2             1              2               2   \n",
      "1048572     2       2        2             2              2               2   \n",
      "1048573     2       2        2             2              2               2   \n",
      "1048574     2       2        2             2              2               2   \n",
      "\n",
      "         OBESITY  RENAL_CHRONIC  TOBACCO  CLASIFFICATION_FINAL  \n",
      "0              2              2        2                     3  \n",
      "1              1              1        2                     5  \n",
      "2              2              2        2                     3  \n",
      "3              2              2        2                     7  \n",
      "4              2              2        2                     3  \n",
      "...          ...            ...      ...                   ...  \n",
      "1048570        2              2        2                     7  \n",
      "1048571        2              2        2                     7  \n",
      "1048572        2              2        2                     7  \n",
      "1048573        2              2        2                     7  \n",
      "1048574        2              2        2                     7  \n",
      "\n",
      "[1048575 rows x 17 columns]\n"
     ]
    }
   ],
   "source": [
    "print(df)"
   ]
  },
  {
   "cell_type": "code",
   "execution_count": 33,
   "id": "4e186623",
   "metadata": {},
   "outputs": [
    {
     "name": "stdout",
     "output_type": "stream",
     "text": [
      "0          False\n",
      "1          False\n",
      "2          False\n",
      "3          False\n",
      "4          False\n",
      "           ...  \n",
      "1048570     True\n",
      "1048571    False\n",
      "1048572    False\n",
      "1048573     True\n",
      "1048574    False\n",
      "Length: 1048575, dtype: bool\n"
     ]
    }
   ],
   "source": [
    "print(df.duplicated())"
   ]
  },
  {
   "cell_type": "code",
   "execution_count": 34,
   "id": "a4ae7bca",
   "metadata": {},
   "outputs": [
    {
     "name": "stdout",
     "output_type": "stream",
     "text": [
      "         USMER  MEDICAL_UNIT  SEX  PATIENT_TYPE  PNEUMONIA  AGE  DIABETES  \\\n",
      "19           2             1    1             1          2   64         2   \n",
      "35           2             1    2             1          2   45         2   \n",
      "41           2             1    2             2          1   45         2   \n",
      "62           2             1    1             2          2   25         2   \n",
      "63           2             1    2             1          2   33         2   \n",
      "...        ...           ...  ...           ...        ...  ...       ...   \n",
      "1048556      2            13    2             1          2   31         2   \n",
      "1048558      1            13    2             1          2   28         2   \n",
      "1048566      2            13    2             1          2   24         2   \n",
      "1048570      2            13    2             1          2   40         2   \n",
      "1048573      2            13    2             1          2   28         2   \n",
      "\n",
      "         COPD  ASTHMA  INMSUPR  HIPERTENSION  OTHER_DISEASE  CARDIOVASCULAR  \\\n",
      "19          2       2        2             2              2               2   \n",
      "35          2       2        2             2              2               2   \n",
      "41          2       2        2             2              2               2   \n",
      "62          2       2        2             2              2               2   \n",
      "63          2       2        2             2              2               2   \n",
      "...       ...     ...      ...           ...            ...             ...   \n",
      "1048556     2       2        2             2              2               2   \n",
      "1048558     2       2        2             2              2               2   \n",
      "1048566     2       1        2             2              2               2   \n",
      "1048570     2       2        2             2              2               2   \n",
      "1048573     2       2        2             2              2               2   \n",
      "\n",
      "         OBESITY  RENAL_CHRONIC  TOBACCO  CLASIFFICATION_FINAL  \n",
      "19             2              2        2                     3  \n",
      "35             2              2        2                     3  \n",
      "41             2              2        2                     3  \n",
      "62             2              2        2                     7  \n",
      "63             2              2        2                     7  \n",
      "...          ...            ...      ...                   ...  \n",
      "1048556        2              2        2                     7  \n",
      "1048558        2              2        2                     7  \n",
      "1048566        2              2        2                     7  \n",
      "1048570        2              2        2                     7  \n",
      "1048573        2              2        2                     7  \n",
      "\n",
      "[871904 rows x 17 columns]\n"
     ]
    }
   ],
   "source": [
    "print(df[df.duplicated()])"
   ]
  },
  {
   "cell_type": "code",
   "execution_count": 35,
   "id": "0977f325",
   "metadata": {},
   "outputs": [],
   "source": [
    "df.drop_duplicates(inplace=True)"
   ]
  },
  {
   "cell_type": "code",
   "execution_count": 36,
   "id": "565a8a43",
   "metadata": {},
   "outputs": [
    {
     "name": "stdout",
     "output_type": "stream",
     "text": [
      "         USMER  MEDICAL_UNIT  SEX  PATIENT_TYPE  PNEUMONIA  AGE  DIABETES  \\\n",
      "0            2             1    1             1          1   65         2   \n",
      "1            2             1    2             1          1   72         2   \n",
      "2            2             1    2             2          2   55         1   \n",
      "3            2             1    1             1          2   53         2   \n",
      "4            2             1    2             1          2   68         1   \n",
      "...        ...           ...  ...           ...        ...  ...       ...   \n",
      "1048568      1            13    2             1          2   47         1   \n",
      "1048569      1            13    1             2          2   56         1   \n",
      "1048571      1            13    2             2          2   51         2   \n",
      "1048572      2            13    2             1          2   55         2   \n",
      "1048574      2            13    2             1          2   52         2   \n",
      "\n",
      "         COPD  ASTHMA  INMSUPR  HIPERTENSION  OTHER_DISEASE  CARDIOVASCULAR  \\\n",
      "0           2       2        2             1              2               2   \n",
      "1           2       2        2             1              2               2   \n",
      "2           2       2        2             2              2               2   \n",
      "3           2       2        2             2              2               2   \n",
      "4           2       2        2             1              2               2   \n",
      "...       ...     ...      ...           ...            ...             ...   \n",
      "1048568     2       2        2             2              2               2   \n",
      "1048569     2       2        2             2              2               2   \n",
      "1048571     2       2        2             1              2               2   \n",
      "1048572     2       2        2             2              2               2   \n",
      "1048574     2       2        2             2              2               2   \n",
      "\n",
      "         OBESITY  RENAL_CHRONIC  TOBACCO  CLASIFFICATION_FINAL  \n",
      "0              2              2        2                     3  \n",
      "1              1              1        2                     5  \n",
      "2              2              2        2                     3  \n",
      "3              2              2        2                     7  \n",
      "4              2              2        2                     3  \n",
      "...          ...            ...      ...                   ...  \n",
      "1048568        2              2        2                     7  \n",
      "1048569        2              2        2                     7  \n",
      "1048571        2              2        2                     7  \n",
      "1048572        2              2        2                     7  \n",
      "1048574        2              2        2                     7  \n",
      "\n",
      "[176671 rows x 17 columns]\n"
     ]
    }
   ],
   "source": [
    "print(df)"
   ]
  },
  {
   "cell_type": "code",
   "execution_count": 43,
   "id": "69f19147",
   "metadata": {},
   "outputs": [],
   "source": [
    "df.drop(\"CLASIFFICATION_FINAL\",inplace=True,axis=1) #ihtiyaç yok"
   ]
  },
  {
   "cell_type": "code",
   "execution_count": 44,
   "id": "69fcdae9",
   "metadata": {},
   "outputs": [
    {
     "name": "stdout",
     "output_type": "stream",
     "text": [
      "         USMER  MEDICAL_UNIT  SEX  PATIENT_TYPE  PNEUMONIA  AGE  DIABETES  \\\n",
      "0            2             1    1             1          1   65         2   \n",
      "1            2             1    2             1          1   72         2   \n",
      "2            2             1    2             2          2   55         1   \n",
      "3            2             1    1             1          2   53         2   \n",
      "4            2             1    2             1          2   68         1   \n",
      "...        ...           ...  ...           ...        ...  ...       ...   \n",
      "1048568      1            13    2             1          2   47         1   \n",
      "1048569      1            13    1             2          2   56         1   \n",
      "1048571      1            13    2             2          2   51         2   \n",
      "1048572      2            13    2             1          2   55         2   \n",
      "1048574      2            13    2             1          2   52         2   \n",
      "\n",
      "         COPD  ASTHMA  INMSUPR  HIPERTENSION  OTHER_DISEASE  CARDIOVASCULAR  \\\n",
      "0           2       2        2             1              2               2   \n",
      "1           2       2        2             1              2               2   \n",
      "2           2       2        2             2              2               2   \n",
      "3           2       2        2             2              2               2   \n",
      "4           2       2        2             1              2               2   \n",
      "...       ...     ...      ...           ...            ...             ...   \n",
      "1048568     2       2        2             2              2               2   \n",
      "1048569     2       2        2             2              2               2   \n",
      "1048571     2       2        2             1              2               2   \n",
      "1048572     2       2        2             2              2               2   \n",
      "1048574     2       2        2             2              2               2   \n",
      "\n",
      "         OBESITY  RENAL_CHRONIC  TOBACCO  \n",
      "0              2              2        2  \n",
      "1              1              1        2  \n",
      "2              2              2        2  \n",
      "3              2              2        2  \n",
      "4              2              2        2  \n",
      "...          ...            ...      ...  \n",
      "1048568        2              2        2  \n",
      "1048569        2              2        2  \n",
      "1048571        2              2        2  \n",
      "1048572        2              2        2  \n",
      "1048574        2              2        2  \n",
      "\n",
      "[176671 rows x 16 columns]\n"
     ]
    }
   ],
   "source": [
    "print(df)"
   ]
  },
  {
   "cell_type": "code",
   "execution_count": 46,
   "id": "d004c9c2",
   "metadata": {},
   "outputs": [
    {
     "name": "stdout",
     "output_type": "stream",
     "text": [
      "         USMER  MEDICAL_UNIT  SEX  PATIENT_TYPE  PNEUMONIA  AGE  DIABETES  \\\n",
      "0            2             1    1             1          1   65         2   \n",
      "1            2             1    2             1          1   72         2   \n",
      "2            2             1    2             2          2   55         1   \n",
      "3            2             1    1             1          2   53         2   \n",
      "4            2             1    2             1          2   68         1   \n",
      "...        ...           ...  ...           ...        ...  ...       ...   \n",
      "1048568      1            13    2             1          2   47         1   \n",
      "1048569      1            13    1             2          2   56         1   \n",
      "1048571      1            13    2             2          2   51         2   \n",
      "1048572      2            13    2             1          2   55         2   \n",
      "1048574      2            13    2             1          2   52         2   \n",
      "\n",
      "         COPD  ASTHMA  INMSUPR  HIPERTENSION  OTHER_DISEASE  CARDIOVASCULAR  \\\n",
      "0           2       2        2             1              2               2   \n",
      "1           2       2        2             1              2               2   \n",
      "2           2       2        2             2              2               2   \n",
      "3           2       2        2             2              2               2   \n",
      "4           2       2        2             1              2               2   \n",
      "...       ...     ...      ...           ...            ...             ...   \n",
      "1048568     2       2        2             2              2               2   \n",
      "1048569     2       2        2             2              2               2   \n",
      "1048571     2       2        2             1              2               2   \n",
      "1048572     2       2        2             2              2               2   \n",
      "1048574     2       2        2             2              2               2   \n",
      "\n",
      "         OBESITY  RENAL_CHRONIC  TOBACCO  \n",
      "0              2              2        2  \n",
      "1              1              1        2  \n",
      "2              2              2        2  \n",
      "3              2              2        2  \n",
      "4              2              2        2  \n",
      "...          ...            ...      ...  \n",
      "1048568        2              2        2  \n",
      "1048569        2              2        2  \n",
      "1048571        2              2        2  \n",
      "1048572        2              2        2  \n",
      "1048574        2              2        2  \n",
      "\n",
      "[176671 rows x 16 columns]\n"
     ]
    }
   ],
   "source": [
    "dfNew=pd.concat([df.loc[:,[\"USMER\",\"MEDICAL_UNIT\",\"SEX\",\"PATIENT_TYPE\",\"PNEUMONIA\",\"AGE\",\"DIABETES\",\"COPD\",\"ASTHMA\",\"INMSUPR\",\"HIPERTENSION\",\"OTHER_DISEASE\",\"CARDIOVASCULAR\",\"OBESITY\",\"RENAL_CHRONIC\",\"TOBACCO\"]]],axis=1)\n",
    "print(dfNew)"
   ]
  },
  {
   "cell_type": "code",
   "execution_count": 47,
   "id": "f9164c07",
   "metadata": {},
   "outputs": [],
   "source": [
    "dfNew.to_csv(\"CovidData.csv\",sep=\";\")"
   ]
  },
  {
   "cell_type": "code",
   "execution_count": 48,
   "id": "58a9d3d0",
   "metadata": {},
   "outputs": [],
   "source": [
    "import matplotlib.pyplot as plt"
   ]
  },
  {
   "cell_type": "markdown",
   "id": "624dcd8c",
   "metadata": {},
   "source": [
    "- yapılacaklar date_died 0 1 ile öldü ölmedi belirle\n",
    "- classiffication ile hastalanma geçmişini tara\n",
    "- icu vs ölüm oranlarına bak"
   ]
  },
  {
   "cell_type": "code",
   "execution_count": null,
   "id": "e6267aad",
   "metadata": {},
   "outputs": [],
   "source": []
  },
  {
   "cell_type": "code",
   "execution_count": null,
   "id": "4f64005a",
   "metadata": {},
   "outputs": [],
   "source": []
  },
  {
   "cell_type": "code",
   "execution_count": null,
   "id": "74f905d5",
   "metadata": {},
   "outputs": [],
   "source": []
  }
 ],
 "metadata": {
  "kernelspec": {
   "display_name": "Python 3 (ipykernel)",
   "language": "python",
   "name": "python3"
  },
  "language_info": {
   "codemirror_mode": {
    "name": "ipython",
    "version": 3
   },
   "file_extension": ".py",
   "mimetype": "text/x-python",
   "name": "python",
   "nbconvert_exporter": "python",
   "pygments_lexer": "ipython3",
   "version": "3.9.13"
  }
 },
 "nbformat": 4,
 "nbformat_minor": 5
}
